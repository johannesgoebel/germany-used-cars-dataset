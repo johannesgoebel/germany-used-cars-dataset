{
 "cells": [
  {
   "cell_type": "code",
   "execution_count": 53,
   "metadata": {},
   "outputs": [],
   "source": [
    "import csv\n",
    "import pandas as pd\n",
    "import matplotlib.pyplot as plt"
   ]
  },
  {
   "cell_type": "code",
   "execution_count": 54,
   "metadata": {},
   "outputs": [
    {
     "data": {
      "text/html": [
       "<div>\n",
       "<style scoped>\n",
       "    .dataframe tbody tr th:only-of-type {\n",
       "        vertical-align: middle;\n",
       "    }\n",
       "\n",
       "    .dataframe tbody tr th {\n",
       "        vertical-align: top;\n",
       "    }\n",
       "\n",
       "    .dataframe thead th {\n",
       "        text-align: right;\n",
       "    }\n",
       "</style>\n",
       "<table border=\"1\" class=\"dataframe\">\n",
       "  <thead>\n",
       "    <tr style=\"text-align: right;\">\n",
       "      <th></th>\n",
       "      <th>Unnamed: 0</th>\n",
       "      <th>brand</th>\n",
       "      <th>model</th>\n",
       "      <th>color</th>\n",
       "      <th>registration_date</th>\n",
       "      <th>year</th>\n",
       "      <th>price_in_euro</th>\n",
       "      <th>power_kw</th>\n",
       "      <th>power_ps</th>\n",
       "      <th>transmission_type</th>\n",
       "      <th>fuel_type</th>\n",
       "      <th>fuel_consumption_l_100km</th>\n",
       "      <th>fuel_consumption_g_km</th>\n",
       "      <th>mileage_in_km</th>\n",
       "      <th>offer_description</th>\n",
       "    </tr>\n",
       "  </thead>\n",
       "  <tbody>\n",
       "    <tr>\n",
       "      <th>0</th>\n",
       "      <td>0</td>\n",
       "      <td>alfa-romeo</td>\n",
       "      <td>Alfa Romeo GTV</td>\n",
       "      <td>red</td>\n",
       "      <td>10/1995</td>\n",
       "      <td>1995</td>\n",
       "      <td>1300</td>\n",
       "      <td>148</td>\n",
       "      <td>201</td>\n",
       "      <td>Manual</td>\n",
       "      <td>Petrol</td>\n",
       "      <td>10,9 l/100 km</td>\n",
       "      <td>260 g/km</td>\n",
       "      <td>160500.0</td>\n",
       "      <td>2.0 V6 TB</td>\n",
       "    </tr>\n",
       "    <tr>\n",
       "      <th>1</th>\n",
       "      <td>1</td>\n",
       "      <td>alfa-romeo</td>\n",
       "      <td>Alfa Romeo 164</td>\n",
       "      <td>black</td>\n",
       "      <td>02/1995</td>\n",
       "      <td>1995</td>\n",
       "      <td>24900</td>\n",
       "      <td>191</td>\n",
       "      <td>260</td>\n",
       "      <td>Manual</td>\n",
       "      <td>Petrol</td>\n",
       "      <td>NaN</td>\n",
       "      <td>- (g/km)</td>\n",
       "      <td>190000.0</td>\n",
       "      <td>Q4 Allrad, 3.2L GTA</td>\n",
       "    </tr>\n",
       "    <tr>\n",
       "      <th>2</th>\n",
       "      <td>2</td>\n",
       "      <td>alfa-romeo</td>\n",
       "      <td>Alfa Romeo Spider</td>\n",
       "      <td>black</td>\n",
       "      <td>02/1995</td>\n",
       "      <td>1995</td>\n",
       "      <td>5900</td>\n",
       "      <td>110</td>\n",
       "      <td>150</td>\n",
       "      <td>Unknown</td>\n",
       "      <td>Petrol</td>\n",
       "      <td>NaN</td>\n",
       "      <td>- (g/km)</td>\n",
       "      <td>129000.0</td>\n",
       "      <td>ALFA ROME 916</td>\n",
       "    </tr>\n",
       "    <tr>\n",
       "      <th>3</th>\n",
       "      <td>3</td>\n",
       "      <td>alfa-romeo</td>\n",
       "      <td>Alfa Romeo Spider</td>\n",
       "      <td>black</td>\n",
       "      <td>07/1995</td>\n",
       "      <td>1995</td>\n",
       "      <td>4900</td>\n",
       "      <td>110</td>\n",
       "      <td>150</td>\n",
       "      <td>Manual</td>\n",
       "      <td>Petrol</td>\n",
       "      <td>9,5 l/100 km</td>\n",
       "      <td>225 g/km</td>\n",
       "      <td>189500.0</td>\n",
       "      <td>2.0 16V Twin Spark L</td>\n",
       "    </tr>\n",
       "    <tr>\n",
       "      <th>4</th>\n",
       "      <td>4</td>\n",
       "      <td>alfa-romeo</td>\n",
       "      <td>Alfa Romeo 164</td>\n",
       "      <td>red</td>\n",
       "      <td>11/1996</td>\n",
       "      <td>1996</td>\n",
       "      <td>17950</td>\n",
       "      <td>132</td>\n",
       "      <td>179</td>\n",
       "      <td>Manual</td>\n",
       "      <td>Petrol</td>\n",
       "      <td>7,2 l/100 km</td>\n",
       "      <td>- (g/km)</td>\n",
       "      <td>96127.0</td>\n",
       "      <td>3.0i Super V6, absoluter Topzustand !</td>\n",
       "    </tr>\n",
       "  </tbody>\n",
       "</table>\n",
       "</div>"
      ],
      "text/plain": [
       "   Unnamed: 0       brand              model  color registration_date  year  \\\n",
       "0           0  alfa-romeo     Alfa Romeo GTV    red           10/1995  1995   \n",
       "1           1  alfa-romeo     Alfa Romeo 164  black           02/1995  1995   \n",
       "2           2  alfa-romeo  Alfa Romeo Spider  black           02/1995  1995   \n",
       "3           3  alfa-romeo  Alfa Romeo Spider  black           07/1995  1995   \n",
       "4           4  alfa-romeo     Alfa Romeo 164    red           11/1996  1996   \n",
       "\n",
       "  price_in_euro power_kw power_ps transmission_type fuel_type  \\\n",
       "0          1300      148      201            Manual    Petrol   \n",
       "1         24900      191      260            Manual    Petrol   \n",
       "2          5900      110      150           Unknown    Petrol   \n",
       "3          4900      110      150            Manual    Petrol   \n",
       "4         17950      132      179            Manual    Petrol   \n",
       "\n",
       "  fuel_consumption_l_100km fuel_consumption_g_km  mileage_in_km  \\\n",
       "0            10,9 l/100 km              260 g/km       160500.0   \n",
       "1                      NaN              - (g/km)       190000.0   \n",
       "2                      NaN              - (g/km)       129000.0   \n",
       "3             9,5 l/100 km              225 g/km       189500.0   \n",
       "4             7,2 l/100 km              - (g/km)        96127.0   \n",
       "\n",
       "                       offer_description  \n",
       "0                              2.0 V6 TB  \n",
       "1                    Q4 Allrad, 3.2L GTA  \n",
       "2                          ALFA ROME 916  \n",
       "3                   2.0 16V Twin Spark L  \n",
       "4  3.0i Super V6, absoluter Topzustand !  "
      ]
     },
     "execution_count": 54,
     "metadata": {},
     "output_type": "execute_result"
    }
   ],
   "source": [
    "df = pd.read_csv(filepath_or_buffer=\"original_data.csv\", sep=\",\", on_bad_lines=\"warn\")\n",
    "df.head()"
   ]
  },
  {
   "cell_type": "code",
   "execution_count": 55,
   "metadata": {},
   "outputs": [
    {
     "name": "stdout",
     "output_type": "stream",
     "text": [
      "<class 'pandas.core.frame.DataFrame'>\n",
      "RangeIndex: 251079 entries, 0 to 251078\n",
      "Data columns (total 15 columns):\n",
      " #   Column                    Non-Null Count   Dtype  \n",
      "---  ------                    --------------   -----  \n",
      " 0   Unnamed: 0                251079 non-null  int64  \n",
      " 1   brand                     251079 non-null  object \n",
      " 2   model                     251079 non-null  object \n",
      " 3   color                     250913 non-null  object \n",
      " 4   registration_date         251075 non-null  object \n",
      " 5   year                      251079 non-null  object \n",
      " 6   price_in_euro             251079 non-null  object \n",
      " 7   power_kw                  250945 non-null  object \n",
      " 8   power_ps                  250950 non-null  object \n",
      " 9   transmission_type         251079 non-null  object \n",
      " 10  fuel_type                 251079 non-null  object \n",
      " 11  fuel_consumption_l_100km  224206 non-null  object \n",
      " 12  fuel_consumption_g_km     251079 non-null  object \n",
      " 13  mileage_in_km             250927 non-null  float64\n",
      " 14  offer_description         251078 non-null  object \n",
      "dtypes: float64(1), int64(1), object(13)\n",
      "memory usage: 28.7+ MB\n"
     ]
    }
   ],
   "source": [
    "df.info()"
   ]
  },
  {
   "cell_type": "code",
   "execution_count": 56,
   "metadata": {},
   "outputs": [
    {
     "name": "stdout",
     "output_type": "stream",
     "text": [
      "<class 'pandas.core.frame.DataFrame'>\n",
      "RangeIndex: 251079 entries, 0 to 251078\n",
      "Data columns (total 14 columns):\n",
      " #   Column                    Non-Null Count   Dtype  \n",
      "---  ------                    --------------   -----  \n",
      " 0   brand                     251079 non-null  object \n",
      " 1   model                     251079 non-null  object \n",
      " 2   color                     250913 non-null  object \n",
      " 3   registration_date         251075 non-null  object \n",
      " 4   year                      251079 non-null  object \n",
      " 5   price_in_euro             251079 non-null  object \n",
      " 6   power_kw                  250945 non-null  object \n",
      " 7   power_ps                  250950 non-null  object \n",
      " 8   transmission_type         251079 non-null  object \n",
      " 9   fuel_type                 251079 non-null  object \n",
      " 10  fuel_consumption_l_100km  224206 non-null  object \n",
      " 11  fuel_consumption_g_km     251079 non-null  object \n",
      " 12  mileage_in_km             250927 non-null  float64\n",
      " 13  offer_description         251078 non-null  object \n",
      "dtypes: float64(1), object(13)\n",
      "memory usage: 26.8+ MB\n"
     ]
    }
   ],
   "source": [
    "df = df.drop(columns=\"Unnamed: 0\")\n",
    "df.info()"
   ]
  },
  {
   "cell_type": "code",
   "execution_count": 57,
   "metadata": {},
   "outputs": [
    {
     "name": "stdout",
     "output_type": "stream",
     "text": [
      "<class 'pandas.core.frame.DataFrame'>\n",
      "Int64Index: 251078 entries, 0 to 251078\n",
      "Data columns (total 14 columns):\n",
      " #   Column                    Non-Null Count   Dtype  \n",
      "---  ------                    --------------   -----  \n",
      " 0   brand                     251078 non-null  object \n",
      " 1   model                     251078 non-null  object \n",
      " 2   color                     250912 non-null  object \n",
      " 3   registration_date         251074 non-null  object \n",
      " 4   year                      251078 non-null  object \n",
      " 5   price_in_euro             251078 non-null  object \n",
      " 6   power_kw                  250944 non-null  object \n",
      " 7   power_ps                  250949 non-null  object \n",
      " 8   transmission_type         251078 non-null  object \n",
      " 9   fuel_type                 251078 non-null  object \n",
      " 10  fuel_consumption_l_100km  224205 non-null  object \n",
      " 11  fuel_consumption_g_km     251078 non-null  object \n",
      " 12  mileage_in_km             250927 non-null  float64\n",
      " 13  offer_description         251078 non-null  object \n",
      "dtypes: float64(1), object(13)\n",
      "memory usage: 28.7+ MB\n"
     ]
    }
   ],
   "source": [
    "df = df.dropna(subset=['offer_description'])\n",
    "df.info()"
   ]
  },
  {
   "cell_type": "code",
   "execution_count": 58,
   "metadata": {},
   "outputs": [
    {
     "name": "stdout",
     "output_type": "stream",
     "text": [
      "<class 'pandas.core.frame.DataFrame'>\n",
      "Int64Index: 250927 entries, 0 to 251078\n",
      "Data columns (total 14 columns):\n",
      " #   Column                    Non-Null Count   Dtype \n",
      "---  ------                    --------------   ----- \n",
      " 0   brand                     250927 non-null  object\n",
      " 1   model                     250927 non-null  object\n",
      " 2   color                     250761 non-null  object\n",
      " 3   registration_date         250927 non-null  object\n",
      " 4   year                      250927 non-null  object\n",
      " 5   price_in_euro             250927 non-null  object\n",
      " 6   power_kw                  250795 non-null  object\n",
      " 7   power_ps                  250801 non-null  object\n",
      " 8   transmission_type         250927 non-null  object\n",
      " 9   fuel_type                 250927 non-null  object\n",
      " 10  fuel_consumption_l_100km  224066 non-null  object\n",
      " 11  fuel_consumption_g_km     250927 non-null  object\n",
      " 12  mileage_in_km             250927 non-null  int32 \n",
      " 13  offer_description         250927 non-null  object\n",
      "dtypes: int32(1), object(13)\n",
      "memory usage: 27.8+ MB\n"
     ]
    }
   ],
   "source": [
    "df = df.dropna(subset=['mileage_in_km'])\n",
    "df['mileage_in_km'] = df['mileage_in_km'].astype(int)\n",
    "df.info()"
   ]
  },
  {
   "cell_type": "code",
   "execution_count": 59,
   "metadata": {},
   "outputs": [
    {
     "name": "stdout",
     "output_type": "stream",
     "text": [
      "<class 'pandas.core.frame.DataFrame'>\n",
      "Int64Index: 250927 entries, 0 to 251078\n",
      "Data columns (total 14 columns):\n",
      " #   Column                    Non-Null Count   Dtype \n",
      "---  ------                    --------------   ----- \n",
      " 0   brand                     250927 non-null  object\n",
      " 1   model                     250927 non-null  object\n",
      " 2   color                     250927 non-null  object\n",
      " 3   registration_date         250927 non-null  object\n",
      " 4   year                      250927 non-null  object\n",
      " 5   price_in_euro             250927 non-null  object\n",
      " 6   power_kw                  250795 non-null  object\n",
      " 7   power_ps                  250801 non-null  object\n",
      " 8   transmission_type         250927 non-null  object\n",
      " 9   fuel_type                 250927 non-null  object\n",
      " 10  fuel_consumption_l_100km  224066 non-null  object\n",
      " 11  fuel_consumption_g_km     250927 non-null  object\n",
      " 12  mileage_in_km             250927 non-null  int32 \n",
      " 13  offer_description         250927 non-null  object\n",
      "dtypes: int32(1), object(13)\n",
      "memory usage: 27.8+ MB\n"
     ]
    }
   ],
   "source": [
    "df['color'].fillna('unknown', inplace=True)\n",
    "df.info()"
   ]
  },
  {
   "cell_type": "code",
   "execution_count": 60,
   "metadata": {},
   "outputs": [
    {
     "data": {
      "text/plain": [
       "array(['Petrol', 'Diesel', 'Hybrid', 'LPG', 'Other', '07/2004', '06/2014',\n",
       "       'CNG', 'Diesel Hybrid', '12/2016', 'Electric', '12/2019',\n",
       "       'Unknown', '06/2023', 'Ethanol', '264.000 km', '05/2009',\n",
       "       '180.000 km', '04/2013', '03/2014', '08/2014', '01/2016',\n",
       "       '03/2017', 'Manual', '04/2008', '07/2007', '12/2012', '10/2022',\n",
       "       '06/2004', '09/2009', '12/2014', '02/2017', '11/2018', '08/2018',\n",
       "       '03/2019', '11/2021', 'Hydrogen', '07/2022', '05/2015', '03/2018',\n",
       "       '04/2022', '02/1996', '04/2000', '06/2009', '05/2012', '11/2014',\n",
       "       '10/2015', 'Automatic', '03/2021', '26890', '26990', '11/2005',\n",
       "       '07/2005', '08/2011', '02/2011', '03/2011', '10/2013', '09/2015',\n",
       "       '02/2018', '02/2023', '08/2017', '99.900 km', '13.610 km',\n",
       "       '9.900 km', '01/2021', '05/2021', '08/2013', '02/2013', '04/2017',\n",
       "       '11/2017', '01/2022', '05/2023', '02/2009', '09/2019', '08/2019',\n",
       "       '11/2022', '04/2023', '03/2023', '01/2023', '07/1999', '02/2002',\n",
       "       '08/2007', '05/2007', '07/2015', '09/2017', '06/2017', '06/2018',\n",
       "       '06/2020'], dtype=object)"
      ]
     },
     "execution_count": 60,
     "metadata": {},
     "output_type": "execute_result"
    }
   ],
   "source": [
    "df['fuel_type'].unique()"
   ]
  },
  {
   "cell_type": "code",
   "execution_count": 61,
   "metadata": {},
   "outputs": [
    {
     "name": "stdout",
     "output_type": "stream",
     "text": [
      "<class 'pandas.core.frame.DataFrame'>\n",
      "Int64Index: 250818 entries, 0 to 251078\n",
      "Data columns (total 14 columns):\n",
      " #   Column                    Non-Null Count   Dtype \n",
      "---  ------                    --------------   ----- \n",
      " 0   brand                     250818 non-null  object\n",
      " 1   model                     250818 non-null  object\n",
      " 2   color                     250818 non-null  object\n",
      " 3   registration_date         250818 non-null  object\n",
      " 4   year                      250818 non-null  object\n",
      " 5   price_in_euro             250818 non-null  object\n",
      " 6   power_kw                  250692 non-null  object\n",
      " 7   power_ps                  250692 non-null  object\n",
      " 8   transmission_type         250818 non-null  object\n",
      " 9   fuel_type                 250818 non-null  object\n",
      " 10  fuel_consumption_l_100km  223957 non-null  object\n",
      " 11  fuel_consumption_g_km     250818 non-null  object\n",
      " 12  mileage_in_km             250818 non-null  int32 \n",
      " 13  offer_description         250818 non-null  object\n",
      "dtypes: int32(1), object(13)\n",
      "memory usage: 27.7+ MB\n"
     ]
    }
   ],
   "source": [
    "valid_fuel_types = ['Petrol', 'Diesel', 'Hybrid', 'LPG', 'Other', 'CNG', 'Diesel Hybrid', 'Electric', 'Unknown', 'Ethanol', 'Hydrogen']\n",
    "df = df[df['fuel_type'].isin(valid_fuel_types)]\n",
    "df.info()"
   ]
  },
  {
   "cell_type": "code",
   "execution_count": 62,
   "metadata": {},
   "outputs": [
    {
     "data": {
      "text/plain": [
       "array(['alfa-romeo', 'aston-martin', 'audi', 'bentley', 'bmw', 'cadillac',\n",
       "       'chevrolet', 'chrysler', 'citroen', 'dacia', 'daewoo', 'daihatsu',\n",
       "       'dodge', 'ferrari', 'fiat', 'ford', 'honda', 'hyundai', 'infiniti',\n",
       "       'isuzu', 'jaguar', 'jeep', 'kia', 'lada', 'lamborghini', 'lancia',\n",
       "       'land-rover', 'maserati', 'mazda', 'mercedes-benz', 'mini',\n",
       "       'mitsubishi', 'nissan', 'opel', 'peugeot', 'porsche', 'proton',\n",
       "       'renault', 'rover', 'saab', 'seat', 'skoda', 'smart', 'ssangyong',\n",
       "       'toyota', 'volkswagen', 'volvo'], dtype=object)"
      ]
     },
     "execution_count": 62,
     "metadata": {},
     "output_type": "execute_result"
    }
   ],
   "source": [
    "df['brand'].unique()"
   ]
  },
  {
   "cell_type": "code",
   "execution_count": 63,
   "metadata": {},
   "outputs": [
    {
     "data": {
      "text/plain": [
       "array(['Alfa Romeo GTV', 'Alfa Romeo 164', 'Alfa Romeo Spider', ...,\n",
       "       'Volvo XC40', 'Volvo C40', 'Volvo'], dtype=object)"
      ]
     },
     "execution_count": 63,
     "metadata": {},
     "output_type": "execute_result"
    }
   ],
   "source": [
    "df['model'].unique()"
   ]
  },
  {
   "cell_type": "code",
   "execution_count": 64,
   "metadata": {},
   "outputs": [
    {
     "data": {
      "text/plain": [
       "array(['red', 'black', 'silver', 'grey', 'white', 'beige', 'blue',\n",
       "       'green', 'yellow', 'gold', 'brown', 'bronze', 'violet', 'orange',\n",
       "       'unknown'], dtype=object)"
      ]
     },
     "execution_count": 64,
     "metadata": {},
     "output_type": "execute_result"
    }
   ],
   "source": [
    "df['color'].unique()"
   ]
  },
  {
   "cell_type": "code",
   "execution_count": 65,
   "metadata": {},
   "outputs": [
    {
     "data": {
      "text/plain": [
       "array(['1995', '1996', '1997', '1998', '1999', '2000', '2001', '2002',\n",
       "       '2003', '2004', '2005', '2006', '2007', '2008', '2009', '2010',\n",
       "       '2011', '2012', '2013', '2014', '2015', '2016', '2017', '2018',\n",
       "       '2019', '2020', '2021', '2022', '2023'], dtype=object)"
      ]
     },
     "execution_count": 65,
     "metadata": {},
     "output_type": "execute_result"
    }
   ],
   "source": [
    "df['year'].unique()"
   ]
  },
  {
   "cell_type": "code",
   "execution_count": 66,
   "metadata": {},
   "outputs": [
    {
     "name": "stdout",
     "output_type": "stream",
     "text": [
      "<class 'pandas.core.frame.DataFrame'>\n",
      "Int64Index: 250818 entries, 0 to 251078\n",
      "Data columns (total 14 columns):\n",
      " #   Column                    Non-Null Count   Dtype \n",
      "---  ------                    --------------   ----- \n",
      " 0   brand                     250818 non-null  object\n",
      " 1   model                     250818 non-null  object\n",
      " 2   color                     250818 non-null  object\n",
      " 3   registration_date         250818 non-null  object\n",
      " 4   year                      250818 non-null  int32 \n",
      " 5   price_in_euro             250818 non-null  object\n",
      " 6   power_kw                  250692 non-null  object\n",
      " 7   power_ps                  250692 non-null  object\n",
      " 8   transmission_type         250818 non-null  object\n",
      " 9   fuel_type                 250818 non-null  object\n",
      " 10  fuel_consumption_l_100km  223957 non-null  object\n",
      " 11  fuel_consumption_g_km     250818 non-null  object\n",
      " 12  mileage_in_km             250818 non-null  int32 \n",
      " 13  offer_description         250818 non-null  object\n",
      "dtypes: int32(2), object(12)\n",
      "memory usage: 26.8+ MB\n"
     ]
    }
   ],
   "source": [
    "df['year'] = df['year'].astype(int)\n",
    "df.info()"
   ]
  },
  {
   "cell_type": "code",
   "execution_count": 67,
   "metadata": {},
   "outputs": [
    {
     "data": {
      "text/plain": [
       "array(['Manual', 'Unknown', 'Automatic', 'Semi-automatic'], dtype=object)"
      ]
     },
     "execution_count": 67,
     "metadata": {},
     "output_type": "execute_result"
    }
   ],
   "source": [
    "df['transmission_type'].unique()"
   ]
  },
  {
   "cell_type": "code",
   "execution_count": 68,
   "metadata": {},
   "outputs": [
    {
     "name": "stdout",
     "output_type": "stream",
     "text": [
      "<class 'pandas.core.frame.DataFrame'>\n",
      "Int64Index: 250818 entries, 0 to 251078\n",
      "Data columns (total 14 columns):\n",
      " #   Column                    Non-Null Count   Dtype  \n",
      "---  ------                    --------------   -----  \n",
      " 0   brand                     250818 non-null  object \n",
      " 1   model                     250818 non-null  object \n",
      " 2   color                     250818 non-null  object \n",
      " 3   registration_date         250818 non-null  object \n",
      " 4   year                      250818 non-null  int32  \n",
      " 5   price_in_euro             250818 non-null  float64\n",
      " 6   power_kw                  250692 non-null  object \n",
      " 7   power_ps                  250692 non-null  object \n",
      " 8   transmission_type         250818 non-null  object \n",
      " 9   fuel_type                 250818 non-null  object \n",
      " 10  fuel_consumption_l_100km  223957 non-null  object \n",
      " 11  fuel_consumption_g_km     250818 non-null  object \n",
      " 12  mileage_in_km             250818 non-null  int32  \n",
      " 13  offer_description         250818 non-null  object \n",
      "dtypes: float64(1), int32(2), object(11)\n",
      "memory usage: 26.8+ MB\n"
     ]
    }
   ],
   "source": [
    "df['price_in_euro'] = df['year'].astype(float)\n",
    "df['brand'] = df['brand'].astype(str)\n",
    "df['model'] = df['model'].astype(str)\n",
    "df['color'] = df['color'].astype(str)\n",
    "df['transmission_type'] = df['transmission_type'].astype(str)\n",
    "df['fuel_type'] = df['fuel_type'].astype(str)\n",
    "df['offer_description'] = df['offer_description'].astype(str)\n",
    "df.info()"
   ]
  },
  {
   "cell_type": "code",
   "execution_count": 69,
   "metadata": {},
   "outputs": [
    {
     "data": {
      "text/html": [
       "<div>\n",
       "<style scoped>\n",
       "    .dataframe tbody tr th:only-of-type {\n",
       "        vertical-align: middle;\n",
       "    }\n",
       "\n",
       "    .dataframe tbody tr th {\n",
       "        vertical-align: top;\n",
       "    }\n",
       "\n",
       "    .dataframe thead th {\n",
       "        text-align: right;\n",
       "    }\n",
       "</style>\n",
       "<table border=\"1\" class=\"dataframe\">\n",
       "  <thead>\n",
       "    <tr style=\"text-align: right;\">\n",
       "      <th></th>\n",
       "      <th>brand</th>\n",
       "      <th>model</th>\n",
       "      <th>color</th>\n",
       "      <th>registration_date</th>\n",
       "      <th>year</th>\n",
       "      <th>price_in_euro</th>\n",
       "      <th>power_kw</th>\n",
       "      <th>power_ps</th>\n",
       "      <th>transmission_type</th>\n",
       "      <th>fuel_type</th>\n",
       "      <th>fuel_consumption_l_100km</th>\n",
       "      <th>fuel_consumption_g_km</th>\n",
       "      <th>mileage_in_km</th>\n",
       "      <th>offer_description</th>\n",
       "    </tr>\n",
       "  </thead>\n",
       "  <tbody>\n",
       "    <tr>\n",
       "      <th>1396</th>\n",
       "      <td>alfa-romeo</td>\n",
       "      <td>Alfa Romeo Tonale</td>\n",
       "      <td>black</td>\n",
       "      <td>01/2023</td>\n",
       "      <td>2023</td>\n",
       "      <td>2023.0</td>\n",
       "      <td>NaN</td>\n",
       "      <td>NaN</td>\n",
       "      <td>Automatic</td>\n",
       "      <td>Petrol</td>\n",
       "      <td>5,9 l/100 km</td>\n",
       "      <td>134 g/km</td>\n",
       "      <td>15</td>\n",
       "      <td>SUPER 1.5 T 130PS 48-Hybrid 15KW</td>\n",
       "    </tr>\n",
       "    <tr>\n",
       "      <th>1417</th>\n",
       "      <td>alfa-romeo</td>\n",
       "      <td>Alfa Romeo Tonale</td>\n",
       "      <td>black</td>\n",
       "      <td>01/2023</td>\n",
       "      <td>2023</td>\n",
       "      <td>2023.0</td>\n",
       "      <td>NaN</td>\n",
       "      <td>NaN</td>\n",
       "      <td>Automatic</td>\n",
       "      <td>Hybrid</td>\n",
       "      <td>5,9 l/100 km</td>\n",
       "      <td>134 g/km</td>\n",
       "      <td>5</td>\n",
       "      <td>SUPER 1.5 T 130PS 48-Hybrid 15KW</td>\n",
       "    </tr>\n",
       "    <tr>\n",
       "      <th>1961</th>\n",
       "      <td>audi</td>\n",
       "      <td>Audi TT</td>\n",
       "      <td>silver</td>\n",
       "      <td>07/2001</td>\n",
       "      <td>2001</td>\n",
       "      <td>2001.0</td>\n",
       "      <td>NaN</td>\n",
       "      <td>NaN</td>\n",
       "      <td>Manual</td>\n",
       "      <td>Other</td>\n",
       "      <td>NaN</td>\n",
       "      <td>- (g/km)</td>\n",
       "      <td>154920</td>\n",
       "      <td>Roadster 1.8T quattro Mokassin-Naht</td>\n",
       "    </tr>\n",
       "    <tr>\n",
       "      <th>19299</th>\n",
       "      <td>audi</td>\n",
       "      <td>Audi RS6</td>\n",
       "      <td>silver</td>\n",
       "      <td>06/2020</td>\n",
       "      <td>2020</td>\n",
       "      <td>2020.0</td>\n",
       "      <td>NaN</td>\n",
       "      <td>NaN</td>\n",
       "      <td>Automatic</td>\n",
       "      <td>Petrol</td>\n",
       "      <td>11,7 l/100 km</td>\n",
       "      <td>268 g/km</td>\n",
       "      <td>29874</td>\n",
       "      <td>Avant 4.0 TFSI quat/1064ps*/HGP/Keramik/VOLL</td>\n",
       "    </tr>\n",
       "    <tr>\n",
       "      <th>20371</th>\n",
       "      <td>audi</td>\n",
       "      <td>Audi A6</td>\n",
       "      <td>silver</td>\n",
       "      <td>03/2021</td>\n",
       "      <td>2021</td>\n",
       "      <td>2021.0</td>\n",
       "      <td>NaN</td>\n",
       "      <td>NaN</td>\n",
       "      <td>Automatic</td>\n",
       "      <td>Diesel</td>\n",
       "      <td>4,9 l/100 km</td>\n",
       "      <td>128 g/km</td>\n",
       "      <td>74373</td>\n",
       "      <td>Avant design 40 TDI Aut quatt CAM AHK LED</td>\n",
       "    </tr>\n",
       "  </tbody>\n",
       "</table>\n",
       "</div>"
      ],
      "text/plain": [
       "            brand              model   color registration_date  year  \\\n",
       "1396   alfa-romeo  Alfa Romeo Tonale   black           01/2023  2023   \n",
       "1417   alfa-romeo  Alfa Romeo Tonale   black           01/2023  2023   \n",
       "1961         audi            Audi TT  silver           07/2001  2001   \n",
       "19299        audi           Audi RS6  silver           06/2020  2020   \n",
       "20371        audi            Audi A6  silver           03/2021  2021   \n",
       "\n",
       "       price_in_euro power_kw power_ps transmission_type fuel_type  \\\n",
       "1396          2023.0      NaN      NaN         Automatic    Petrol   \n",
       "1417          2023.0      NaN      NaN         Automatic    Hybrid   \n",
       "1961          2001.0      NaN      NaN            Manual     Other   \n",
       "19299         2020.0      NaN      NaN         Automatic    Petrol   \n",
       "20371         2021.0      NaN      NaN         Automatic    Diesel   \n",
       "\n",
       "      fuel_consumption_l_100km fuel_consumption_g_km  mileage_in_km  \\\n",
       "1396              5,9 l/100 km              134 g/km             15   \n",
       "1417              5,9 l/100 km              134 g/km              5   \n",
       "1961                       NaN              - (g/km)         154920   \n",
       "19299            11,7 l/100 km              268 g/km          29874   \n",
       "20371             4,9 l/100 km              128 g/km          74373   \n",
       "\n",
       "                                  offer_description  \n",
       "1396               SUPER 1.5 T 130PS 48-Hybrid 15KW  \n",
       "1417               SUPER 1.5 T 130PS 48-Hybrid 15KW  \n",
       "1961            Roadster 1.8T quattro Mokassin-Naht  \n",
       "19299  Avant 4.0 TFSI quat/1064ps*/HGP/Keramik/VOLL  \n",
       "20371     Avant design 40 TDI Aut quatt CAM AHK LED  "
      ]
     },
     "execution_count": 69,
     "metadata": {},
     "output_type": "execute_result"
    }
   ],
   "source": [
    "ps_empty = df[df['power_ps'].isna()]\n",
    "ps_empty.head()"
   ]
  },
  {
   "cell_type": "code",
   "execution_count": 70,
   "metadata": {},
   "outputs": [
    {
     "data": {
      "text/plain": [
       "Petrol      47\n",
       "Hybrid      27\n",
       "Diesel      25\n",
       "Electric    12\n",
       "Unknown      8\n",
       "Other        5\n",
       "Hydrogen     2\n",
       "Name: fuel_type, dtype: int64"
      ]
     },
     "execution_count": 70,
     "metadata": {},
     "output_type": "execute_result"
    }
   ],
   "source": [
    "ps_empty[\"fuel_type\"].value_counts()"
   ]
  },
  {
   "cell_type": "code",
   "execution_count": 71,
   "metadata": {},
   "outputs": [
    {
     "name": "stdout",
     "output_type": "stream",
     "text": [
      "<class 'pandas.core.frame.DataFrame'>\n",
      "Int64Index: 250692 entries, 0 to 251078\n",
      "Data columns (total 14 columns):\n",
      " #   Column                    Non-Null Count   Dtype  \n",
      "---  ------                    --------------   -----  \n",
      " 0   brand                     250692 non-null  object \n",
      " 1   model                     250692 non-null  object \n",
      " 2   color                     250692 non-null  object \n",
      " 3   registration_date         250692 non-null  object \n",
      " 4   year                      250692 non-null  int32  \n",
      " 5   price_in_euro             250692 non-null  float64\n",
      " 6   power_kw                  250692 non-null  object \n",
      " 7   power_ps                  250692 non-null  object \n",
      " 8   transmission_type         250692 non-null  object \n",
      " 9   fuel_type                 250692 non-null  object \n",
      " 10  fuel_consumption_l_100km  223883 non-null  object \n",
      " 11  fuel_consumption_g_km     250692 non-null  object \n",
      " 12  mileage_in_km             250692 non-null  int32  \n",
      " 13  offer_description         250692 non-null  object \n",
      "dtypes: float64(1), int32(2), object(11)\n",
      "memory usage: 26.8+ MB\n"
     ]
    }
   ],
   "source": [
    "df = df.dropna(subset=['power_ps'])\n",
    "df.info()"
   ]
  },
  {
   "cell_type": "code",
   "execution_count": 72,
   "metadata": {},
   "outputs": [
    {
     "data": {
      "text/plain": [
       "0    10,9 l/100 km\n",
       "1              NaN\n",
       "2              NaN\n",
       "3     9,5 l/100 km\n",
       "4     7,2 l/100 km\n",
       "Name: fuel_consumption_l_100km, dtype: object"
      ]
     },
     "execution_count": 72,
     "metadata": {},
     "output_type": "execute_result"
    }
   ],
   "source": [
    "df[\"fuel_consumption_l_100km\"].head()"
   ]
  },
  {
   "cell_type": "code",
   "execution_count": 73,
   "metadata": {},
   "outputs": [
    {
     "data": {
      "text/plain": [
       "4,9 l/100 km       8148\n",
       "5,1 l/100 km       7653\n",
       "5,5 l/100 km       7610\n",
       "5,9 l/100 km       7513\n",
       "5,3 l/100 km       7430\n",
       "                   ... \n",
       "594 km (Ort)          1\n",
       "464 km (Ort)          1\n",
       "687 km (Ort)          1\n",
       "12,6 kWh/100 km       1\n",
       "93 km (Ort)           1\n",
       "Name: fuel_consumption_l_100km, Length: 531, dtype: int64"
      ]
     },
     "execution_count": 73,
     "metadata": {},
     "output_type": "execute_result"
    }
   ],
   "source": [
    "df['fuel_consumption_l_100km'].value_counts()"
   ]
  },
  {
   "cell_type": "markdown",
   "metadata": {},
   "source": [
    "Merkwürdige Werte mit \"Ort\" -> Welche Spalte, die Verbrauch beschreibt, verwenden?"
   ]
  },
  {
   "cell_type": "code",
   "execution_count": 74,
   "metadata": {},
   "outputs": [
    {
     "data": {
      "text/plain": [
       "array(['391 km Reichweite', '46 km Reichweite', '327 km Reichweite',\n",
       "       '484 km Reichweite', '100 km Reichweite', '247 km Reichweite',\n",
       "       '304 km Reichweite', '303 km Reichweite', '279 km Reichweite',\n",
       "       '306 km Reichweite', '280 km Reichweite', '283 km Reichweite',\n",
       "       '282 km Reichweite', '288 km Reichweite', '307 km Reichweite',\n",
       "       '300 km Reichweite', '281 km Reichweite', '284 km Reichweite',\n",
       "       '308 km Reichweite', '51 km Reichweite', '289 km Reichweite',\n",
       "       '359 km Reichweite', '453 km Reichweite', '570 km Reichweite',\n",
       "       '458 km Reichweite', '56 km Reichweite', '499 km Reichweite',\n",
       "       '574 km Reichweite', '502 km Reichweite', '592 km Reichweite',\n",
       "       '545 km Reichweite', '399 km Reichweite', '417 km Reichweite',\n",
       "       '398 km Reichweite', '533 km Reichweite', '91 km Reichweite',\n",
       "       '598 km Reichweite', '425 km Reichweite', '547 km Reichweite',\n",
       "       '433 km Reichweite', '406 km Reichweite', '348 km Reichweite',\n",
       "       '346 km Reichweite', '354 km Reichweite', '63 km Reichweite',\n",
       "       '230 km Reichweite', '321 km Reichweite', '312 km Reichweite',\n",
       "       '260 km Reichweite', '298 km Reichweite', '245 km Reichweite',\n",
       "       '190 km Reichweite', '320 km Reichweite', '60 km Reichweite',\n",
       "       '40 km Reichweite', '400 km Reichweite', '50 km Reichweite',\n",
       "       '540 km Reichweite', '42 km Reichweite', '500 km Reichweite',\n",
       "       '57 km Reichweite', '440 km Reichweite', '610 km Reichweite',\n",
       "       '490 km Reichweite', '210 km Reichweite', '460 km Reichweite',\n",
       "       '240 km Reichweite', '305 km Reichweite', '310 km Reichweite',\n",
       "       '451 km Reichweite', '74 km Reichweite', '62 km Reichweite',\n",
       "       '55 km Reichweite', '52 km Reichweite', '519 km Reichweite',\n",
       "       '454 km Reichweite', '44 km Reichweite', '49 km Reichweite',\n",
       "       '47 km Reichweite', '48 km Reichweite', '58 km Reichweite',\n",
       "       '464 km Reichweite', '450 km Reichweite', '504 km Reichweite',\n",
       "       '394 km Reichweite', '59 km Reichweite', '506 km Reichweite',\n",
       "       '68 km Reichweite', '200 km Reichweite', '409 km Reichweite',\n",
       "       '615 km Reichweite', '411 km Reichweite', '480 km Reichweite',\n",
       "       '467 km Reichweite', '524 km Reichweite', '465 km Reichweite',\n",
       "       '32 km Reichweite', '233 km Reichweite', '231 km Reichweite',\n",
       "       '226 km Reichweite', '229 km Reichweite', '228 km Reichweite',\n",
       "       '270 km Reichweite', '234 km Reichweite', '242 km Reichweite',\n",
       "       '203 km Reichweite', '232 km Reichweite', '227 km Reichweite',\n",
       "       '54 km Reichweite', '61 km Reichweite', '45 km Reichweite',\n",
       "       '120 km Reichweite', '389 km Reichweite', '250 km Reichweite',\n",
       "       '385 km Reichweite', '285 km Reichweite', '396 km Reichweite',\n",
       "       '531 km Reichweite', '301 km Reichweite', '337 km Reichweite',\n",
       "       '330 km Reichweite', '67 km Reichweite', '338 km Reichweite',\n",
       "       '66 km Reichweite', '64 km Reichweite', '65 km Reichweite',\n",
       "       '350 km Reichweite', '331 km Reichweite', '341 km Reichweite',\n",
       "       '362 km Reichweite', '443 km Reichweite', '405 km Reichweite',\n",
       "       '110 km Reichweite', '352 km Reichweite', '429 km Reichweite',\n",
       "       '254 km Reichweite', '35 km Reichweite', '514 km Reichweite',\n",
       "       '492 km Reichweite', '375 km Reichweite', '145 km Reichweite',\n",
       "       '130 km Reichweite', '123 km Reichweite', '127 km Reichweite',\n",
       "       '126 km Reichweite', '150 km Reichweite', '155 km Reichweite',\n",
       "       '135 km Reichweite', '339 km Reichweite', '315 km Reichweite',\n",
       "       '75 km Reichweite', '415 km Reichweite', '442 km Reichweite',\n",
       "       '436 km Reichweite', '513 km Reichweite', '215 km Reichweite',\n",
       "       '302 km Reichweite', '256 km Reichweite', '258 km Reichweite',\n",
       "       '535 km Reichweite', '340 km Reichweite', '470 km Reichweite',\n",
       "       '33 km Reichweite', '41 km Reichweite', '412 km Reichweite',\n",
       "       '410 km Reichweite', '424 km Reichweite', '77 km Reichweite'],\n",
       "      dtype=object)"
      ]
     },
     "execution_count": 74,
     "metadata": {},
     "output_type": "execute_result"
    }
   ],
   "source": [
    "dirty_data = df[df['fuel_consumption_l_100km'].str.contains('\\(Ort\\)', na=False)]\n",
    "dirty_data[\"fuel_consumption_g_km\"].unique()"
   ]
  },
  {
   "cell_type": "markdown",
   "metadata": {},
   "source": [
    "Alle Datensätze, die das Stichwort \"Ort\" enthalten, enthalten auch \"Reichweite\" in der Spalte \"g_km\""
   ]
  },
  {
   "cell_type": "code",
   "execution_count": 75,
   "metadata": {},
   "outputs": [
    {
     "data": {
      "text/plain": [
       "Electric         343\n",
       "Hybrid           137\n",
       "Other              7\n",
       "Diesel Hybrid      2\n",
       "Name: fuel_type, dtype: int64"
      ]
     },
     "execution_count": 75,
     "metadata": {},
     "output_type": "execute_result"
    }
   ],
   "source": [
    "dirty_data[\"fuel_type\"].value_counts()"
   ]
  },
  {
   "cell_type": "markdown",
   "metadata": {},
   "source": [
    "Die meisten sind Elektro oder Hybridautos "
   ]
  },
  {
   "cell_type": "code",
   "execution_count": 76,
   "metadata": {},
   "outputs": [
    {
     "data": {
      "text/plain": [
       "Petrol           143204\n",
       "Diesel            86394\n",
       "Hybrid            12572\n",
       "Electric           5944\n",
       "LPG                1243\n",
       "CNG                 508\n",
       "Diesel Hybrid       476\n",
       "Other               173\n",
       "Unknown              88\n",
       "Hydrogen             80\n",
       "Ethanol              10\n",
       "Name: fuel_type, dtype: int64"
      ]
     },
     "execution_count": 76,
     "metadata": {},
     "output_type": "execute_result"
    }
   ],
   "source": [
    "df[\"fuel_type\"].value_counts()"
   ]
  },
  {
   "cell_type": "code",
   "execution_count": 77,
   "metadata": {},
   "outputs": [
    {
     "data": {
      "text/plain": [
       "0 g/km               2919\n",
       "200 km Reichweite     176\n",
       "230 km Reichweite     117\n",
       "400 km Reichweite      70\n",
       "340 km Reichweite      69\n",
       "                     ... \n",
       "710 km Reichweite       1\n",
       "426 km Reichweite       1\n",
       "151 km Reichweite       1\n",
       "262 km Reichweite       1\n",
       "548 km Reichweite       1\n",
       "Name: fuel_consumption_g_km, Length: 382, dtype: int64"
      ]
     },
     "execution_count": 77,
     "metadata": {},
     "output_type": "execute_result"
    }
   ],
   "source": [
    "df[df['fuel_type'] == 'Electric'][\"fuel_consumption_g_km\"].value_counts()"
   ]
  },
  {
   "cell_type": "markdown",
   "metadata": {},
   "source": [
    "Die meisten Einträge haben keine Daten, somit ist es schwer eine neue Spalte \"Reichweite\" einzuführen"
   ]
  },
  {
   "cell_type": "code",
   "execution_count": 78,
   "metadata": {},
   "outputs": [
    {
     "data": {
      "text/plain": [
       "- (g/km)             1131\n",
       "64 g/km               317\n",
       "92 g/km               316\n",
       "86 g/km               286\n",
       "0 g/km                262\n",
       "                     ... \n",
       "198 g/km                1\n",
       "214 g/km                1\n",
       "420 km Reichweite       1\n",
       "204 g/km                1\n",
       "77 km Reichweite        1\n",
       "Name: fuel_consumption_g_km, Length: 315, dtype: int64"
      ]
     },
     "execution_count": 78,
     "metadata": {},
     "output_type": "execute_result"
    }
   ],
   "source": [
    "df[df['fuel_type'] == 'Hybrid'][\"fuel_consumption_g_km\"].value_counts()"
   ]
  },
  {
   "cell_type": "markdown",
   "metadata": {},
   "source": [
    "Bei den Hybridautos scheint es anders auszusehen, viele haben realistische Werte. Eine Großzahl aber auch keine Werte"
   ]
  },
  {
   "cell_type": "code",
   "execution_count": 79,
   "metadata": {},
   "outputs": [
    {
     "data": {
      "text/plain": [
       "0.0             2997\n",
       "0 g/km          2919\n",
       "-/-               16\n",
       "122 g/km           2\n",
       "13 g/km            1\n",
       "460 km (Ort)       1\n",
       "389 km (Ort)       1\n",
       "152 g/km           1\n",
       "60 g/km            1\n",
       "85 km (Ort)        1\n",
       "90 km (Ort)        1\n",
       "235 km (Ort)       1\n",
       "100 km (Ort)       1\n",
       "230 km (Ort)       1\n",
       "Name: fuel_consumption_g_km, dtype: int64"
      ]
     },
     "execution_count": 79,
     "metadata": {},
     "output_type": "execute_result"
    }
   ],
   "source": [
    "mask = df['fuel_consumption_g_km'].str.contains('Reichweite', na=False)\n",
    "df.loc[mask, 'fuel_consumption_g_km'] = 0.0\n",
    "df[df['fuel_type'] == 'Electric'][\"fuel_consumption_g_km\"].value_counts()"
   ]
  },
  {
   "cell_type": "code",
   "execution_count": 80,
   "metadata": {},
   "outputs": [
    {
     "name": "stderr",
     "output_type": "stream",
     "text": [
      "c:\\Users\\jog97\\AppData\\Local\\Programs\\Python\\Python37\\lib\\site-packages\\ipykernel_launcher.py:1: UserWarning: This pattern has match groups. To actually get the groups, use str.extract.\n",
      "  \"\"\"Entry point for launching an IPython kernel.\n"
     ]
    },
    {
     "data": {
      "text/plain": [
       "0.0         3004\n",
       "0 g/km      2919\n",
       "-/-           16\n",
       "122 g/km       2\n",
       "13 g/km        1\n",
       "152 g/km       1\n",
       "60 g/km        1\n",
       "Name: fuel_consumption_g_km, dtype: int64"
      ]
     },
     "execution_count": 80,
     "metadata": {},
     "output_type": "execute_result"
    }
   ],
   "source": [
    "mask = df['fuel_consumption_g_km'].str.contains('(Ort)', na=False)\n",
    "df.loc[mask, 'fuel_consumption_g_km'] = 0.0\n",
    "df[df['fuel_type'] == 'Electric'][\"fuel_consumption_g_km\"].value_counts()"
   ]
  },
  {
   "cell_type": "code",
   "execution_count": 81,
   "metadata": {},
   "outputs": [
    {
     "data": {
      "text/plain": [
       "- ()      35778\n",
       "0          8511\n",
       "119        4810\n",
       "114        3877\n",
       "139        3382\n",
       "          ...  \n",
       "136,9         1\n",
       "5,7           1\n",
       "135,8         1\n",
       "119,5         1\n",
       "194,3         1\n",
       "Name: fuel_consumption_g_km, Length: 1014, dtype: int64"
      ]
     },
     "execution_count": 81,
     "metadata": {},
     "output_type": "execute_result"
    }
   ],
   "source": [
    "df['fuel_consumption_g_km'] = df['fuel_consumption_g_km'].str.replace('g/km', '', regex=False)\n",
    "df['fuel_consumption_g_km'].value_counts()"
   ]
  },
  {
   "cell_type": "code",
   "execution_count": 82,
   "metadata": {},
   "outputs": [
    {
     "data": {
      "text/plain": [
       "- ()      35778\n",
       "0          8511\n",
       "119        4810\n",
       "114        3877\n",
       "139        3382\n",
       "          ...  \n",
       "136.9         1\n",
       "5.7           1\n",
       "135.8         1\n",
       "119.5         1\n",
       "194.3         1\n",
       "Name: fuel_consumption_g_km, Length: 1014, dtype: int64"
      ]
     },
     "execution_count": 82,
     "metadata": {},
     "output_type": "execute_result"
    }
   ],
   "source": [
    "df['fuel_consumption_g_km'] = df['fuel_consumption_g_km'].str.replace(',', '.', regex=False)\n",
    "df['fuel_consumption_g_km'].value_counts()"
   ]
  },
  {
   "cell_type": "code",
   "execution_count": 83,
   "metadata": {},
   "outputs": [
    {
     "data": {
      "text/plain": [
       "<matplotlib.axes._subplots.AxesSubplot at 0x17eaa593bc8>"
      ]
     },
     "execution_count": 83,
     "metadata": {},
     "output_type": "execute_result"
    },
    {
     "data": {
      "image/png": "[encoded data removed]",
      "text/plain": [
       "<Figure size 640x480 with 1 Axes>"
      ]
     },
     "metadata": {},
     "output_type": "display_data"
    }
   ],
   "source": [
    "test = pd.to_numeric(df['fuel_consumption_g_km'], errors='coerce')\n",
    "test.plot()"
   ]
  },
  {
   "cell_type": "markdown",
   "metadata": {},
   "source": [
    "## Liter pro 100 Kilometer"
   ]
  },
  {
   "cell_type": "code",
   "execution_count": 84,
   "metadata": {},
   "outputs": [
    {
     "data": {
      "text/plain": [
       "4,9 l/100 km       8148\n",
       "5,1 l/100 km       7653\n",
       "5,5 l/100 km       7610\n",
       "5,9 l/100 km       7513\n",
       "5,3 l/100 km       7430\n",
       "                   ... \n",
       "594 km (Ort)          1\n",
       "464 km (Ort)          1\n",
       "687 km (Ort)          1\n",
       "12,6 kWh/100 km       1\n",
       "93 km (Ort)           1\n",
       "Name: fuel_consumption_l_100km, Length: 531, dtype: int64"
      ]
     },
     "execution_count": 84,
     "metadata": {},
     "output_type": "execute_result"
    }
   ],
   "source": [
    "df['fuel_consumption_l_100km'].value_counts()"
   ]
  },
  {
   "cell_type": "code",
   "execution_count": 85,
   "metadata": {},
   "outputs": [
    {
     "data": {
      "text/plain": [
       "4,9 l/100 km      8148\n",
       "5,1 l/100 km      7653\n",
       "5,5 l/100 km      7610\n",
       "5,9 l/100 km      7513\n",
       "5,3 l/100 km      7430\n",
       "                  ... \n",
       "8,3 kg/100 km        1\n",
       "14,7 kg/100 km       1\n",
       "98,4 l/100 km        1\n",
       "152 l/100 km         1\n",
       "22,6 l/100 km        1\n",
       "Name: fuel_consumption_l_100km, Length: 346, dtype: int64"
      ]
     },
     "execution_count": 85,
     "metadata": {},
     "output_type": "execute_result"
    }
   ],
   "source": [
    "mask = df['fuel_consumption_l_100km'].str.contains('Ort', na=False)\n",
    "df.loc[mask, 'fuel_consumption_l_100km'] = 0.0\n",
    "df['fuel_consumption_l_100km'].value_counts()"
   ]
  },
  {
   "cell_type": "code",
   "execution_count": 86,
   "metadata": {},
   "outputs": [
    {
     "data": {
      "text/plain": [
       "4,9               8148\n",
       "5,1               7653\n",
       "5,5               7610\n",
       "5,9               7513\n",
       "5,3               7430\n",
       "                  ... \n",
       "8,3 kg/100 km        1\n",
       "14,7 kg/100 km       1\n",
       "98,4                 1\n",
       "152                  1\n",
       "22,6                 1\n",
       "Name: fuel_consumption_l_100km, Length: 345, dtype: int64"
      ]
     },
     "execution_count": 86,
     "metadata": {},
     "output_type": "execute_result"
    }
   ],
   "source": [
    "df['fuel_consumption_l_100km'] = df['fuel_consumption_l_100km'].str.replace(' l/100 km', '', regex=False)\n",
    "df['fuel_consumption_l_100km'].value_counts()"
   ]
  },
  {
   "cell_type": "code",
   "execution_count": 87,
   "metadata": {},
   "outputs": [
    {
     "data": {
      "text/plain": [
       "array(['10,9', nan, '9,5', '7,2', '8,8', '13,4', '11', '9,2', '11,1',\n",
       "       '11,7', '8,4', '8,2', '8,9', '11,4', '8,5', '8,3', '7,9', '8,7',\n",
       "       '8,1', '12,2', '12', '5,8', '10', '6,7', '8,6', '12,5', '9,7',\n",
       "       '12,1', '8', '7,5', '6,2', '13,2', '6', '12,4', '6,8', '9,4',\n",
       "       '6,1', '5,9', '11,5', '11,6', '7,6', '5,2', '7,1', '6,9', '12,3',\n",
       "       '6,5', '7,7', '4,6', '4,8', '4,5', '5,3', '6,4', '4,9', '6,6',\n",
       "       '5,5', '5,4', '5,6', '16,8', '5,7', '3,5', '4,4', '4,7', '4',\n",
       "       '4,2', '- (l/100 km)', '7', '4,3', '5,1', '3,4', '3,9', '3,8', '9',\n",
       "       '9,8', '10,3', '7,4', '7,8', '6,3', '10,1', '5', '9,3', '7,3',\n",
       "       '10,8', '0', '11,8', '1,3', '1,4', '9,1', '9,6', '10,2', '1,5',\n",
       "       '12,7', '16,5', '14,7', '16,7', '18,8', '14,6', '17,8', '17,2',\n",
       "       '18,9', '15', '13,8', '18,7', '16,4', '15,6', '18,2', '18', '14',\n",
       "       '14,9', '13,9', '15,5', '12,6', '14,4', '12,9', '14,3', '17',\n",
       "       '12,8', '13,1', '9,9', '10,5', '14,2', '13,5', '10,6', '16,9',\n",
       "       '11,2', '10,7', '11,3', '19,9', '10,4', '13,7', '11,9', '3,2',\n",
       "       '14,5', '14,8', '13,3', '13', '13,6', '4,1', '3,7', '3,3', '1,7',\n",
       "       '1,9', '3,6', '1,8', '1,6', '1', '2,1', '2,2', '2,4', '2', '3',\n",
       "       '21,2', '2,7', '2,6', '19,4', '0 kWh/100 km', '0,4', '19,2',\n",
       "       '20,6', '16,6', '17,1', '19,5', '17,7', '16,3', '15,9', '14,1',\n",
       "       '141', '15,7', '16,2', '15,2', '99', '0,6', '2,8', '1,2', '2,5',\n",
       "       '2,3', '212 kWh/100 km', '19,3 kWh/100 km', '224 kWh/100 km',\n",
       "       '66,4', '19,1 kWh/100 km', '19', '73', '165 kWh/100 km', '38',\n",
       "       '3,1', '45', '62', '15,3', '21', '22,2', '22,9', '20,8', '17,9',\n",
       "       '19,1', '21,8', '20,7', '18,3', '21,3', '17,5', '16,1', '15,1',\n",
       "       '14,3 kWh/100 km', '13 kWh/100 km', '88', '65', '66', '4.300',\n",
       "       '15,8', '22', '99,9', '85,4', '2,9', '1,1', '119',\n",
       "       '17,8 kWh/100 km', '51,8', '41', '15,4 kWh/100 km',\n",
       "       '14,7 kWh/100 km', '53', '22 kWh/100 km', '12,6 kWh/100 km',\n",
       "       '20,6 kWh/100 km', '0,8', '60', '52', '21,5', '16', '19,6', '20,1',\n",
       "       '18,4', '31,4', '0,9', '18,1', '18,6', '21,9', '15,4', '0,1',\n",
       "       '0,7', '0,5', '152', '98,4', '15,8 kWh/100 km', '59',\n",
       "       '17,7 kWh/100 km', '57', '17,5 kWh/100 km', '15,5 kWh/100 km',\n",
       "       '18 kWh/100 km', '116', '107', '17,3 kWh/100 km', '120', '131',\n",
       "       '147', '173', '132', '130', '138', '134', '56', '133', '123',\n",
       "       '125', '14,5 kWh/100 km', '122', '171', '16 kWh/100 km', '55',\n",
       "       '49', '30', '26', '61', '36', '146', '143', '0,2', '22,6'],\n",
       "      dtype=object)"
      ]
     },
     "execution_count": 87,
     "metadata": {},
     "output_type": "execute_result"
    }
   ],
   "source": [
    "import numpy as np\n",
    "df.loc[df['fuel_consumption_l_100km'].str.contains(' kg/100 km', na=False), 'fuel_consumption_l_100km'] = np.nan\n",
    "df['fuel_consumption_l_100km'].unique()"
   ]
  },
  {
   "cell_type": "code",
   "execution_count": 88,
   "metadata": {},
   "outputs": [
    {
     "data": {
      "text/plain": [
       "array(['10,9', nan, '9,5', '7,2', '8,8', '13,4', '11', '9,2', '11,1',\n",
       "       '11,7', '8,4', '8,2', '8,9', '11,4', '8,5', '8,3', '7,9', '8,7',\n",
       "       '8,1', '12,2', '12', '5,8', '10', '6,7', '8,6', '12,5', '9,7',\n",
       "       '12,1', '8', '7,5', '6,2', '13,2', '6', '12,4', '6,8', '9,4',\n",
       "       '6,1', '5,9', '11,5', '11,6', '7,6', '5,2', '7,1', '6,9', '12,3',\n",
       "       '6,5', '7,7', '4,6', '4,8', '4,5', '5,3', '6,4', '4,9', '6,6',\n",
       "       '5,5', '5,4', '5,6', '16,8', '5,7', '3,5', '4,4', '4,7', '4',\n",
       "       '4,2', '- (l/100 km)', '7', '4,3', '5,1', '3,4', '3,9', '3,8', '9',\n",
       "       '9,8', '10,3', '7,4', '7,8', '6,3', '10,1', '5', '9,3', '7,3',\n",
       "       '10,8', '0', '11,8', '1,3', '1,4', '9,1', '9,6', '10,2', '1,5',\n",
       "       '12,7', '16,5', '14,7', '16,7', '18,8', '14,6', '17,8', '17,2',\n",
       "       '18,9', '15', '13,8', '18,7', '16,4', '15,6', '18,2', '18', '14',\n",
       "       '14,9', '13,9', '15,5', '12,6', '14,4', '12,9', '14,3', '17',\n",
       "       '12,8', '13,1', '9,9', '10,5', '14,2', '13,5', '10,6', '16,9',\n",
       "       '11,2', '10,7', '11,3', '19,9', '10,4', '13,7', '11,9', '3,2',\n",
       "       '14,5', '14,8', '13,3', '13', '13,6', '4,1', '3,7', '3,3', '1,7',\n",
       "       '1,9', '3,6', '1,8', '1,6', '1', '2,1', '2,2', '2,4', '2', '3',\n",
       "       '21,2', '2,7', '2,6', '19,4', '0,4', '19,2', '20,6', '16,6',\n",
       "       '17,1', '19,5', '17,7', '16,3', '15,9', '14,1', '141', '15,7',\n",
       "       '16,2', '15,2', '99', '0,6', '2,8', '1,2', '2,5', '2,3', '66,4',\n",
       "       '19', '73', '38', '3,1', '45', '62', '15,3', '21', '22,2', '22,9',\n",
       "       '20,8', '17,9', '19,1', '21,8', '20,7', '18,3', '21,3', '17,5',\n",
       "       '16,1', '15,1', '88', '65', '66', '4.300', '15,8', '22', '99,9',\n",
       "       '85,4', '2,9', '1,1', '119', '51,8', '41', '53', '0,8', '60', '52',\n",
       "       '21,5', '16', '19,6', '20,1', '18,4', '31,4', '0,9', '18,1',\n",
       "       '18,6', '21,9', '15,4', '0,1', '0,7', '0,5', '152', '98,4', '59',\n",
       "       '57', '116', '107', '120', '131', '147', '173', '132', '130',\n",
       "       '138', '134', '56', '133', '123', '125', '122', '171', '55', '49',\n",
       "       '30', '26', '61', '36', '146', '143', '0,2', '22,6'], dtype=object)"
      ]
     },
     "execution_count": 88,
     "metadata": {},
     "output_type": "execute_result"
    }
   ],
   "source": [
    "import numpy as np\n",
    "df.loc[df['fuel_consumption_l_100km'].str.contains(' kWh/100 km', na=False), 'fuel_consumption_l_100km'] = np.nan\n",
    "df['fuel_consumption_l_100km'].unique()"
   ]
  },
  {
   "cell_type": "code",
   "execution_count": 89,
   "metadata": {},
   "outputs": [
    {
     "data": {
      "text/plain": [
       "array(['10.9', nan, '9.5', '7.2', '8.8', '13.4', '11', '9.2', '11.1',\n",
       "       '11.7', '8.4', '8.2', '8.9', '11.4', '8.5', '8.3', '7.9', '8.7',\n",
       "       '8.1', '12.2', '12', '5.8', '10', '6.7', '8.6', '12.5', '9.7',\n",
       "       '12.1', '8', '7.5', '6.2', '13.2', '6', '12.4', '6.8', '9.4',\n",
       "       '6.1', '5.9', '11.5', '11.6', '7.6', '5.2', '7.1', '6.9', '12.3',\n",
       "       '6.5', '7.7', '4.6', '4.8', '4.5', '5.3', '6.4', '4.9', '6.6',\n",
       "       '5.5', '5.4', '5.6', '16.8', '5.7', '3.5', '4.4', '4.7', '4',\n",
       "       '4.2', '- (l/100 km)', '7', '4.3', '5.1', '3.4', '3.9', '3.8', '9',\n",
       "       '9.8', '10.3', '7.4', '7.8', '6.3', '10.1', '5', '9.3', '7.3',\n",
       "       '10.8', '0', '11.8', '1.3', '1.4', '9.1', '9.6', '10.2', '1.5',\n",
       "       '12.7', '16.5', '14.7', '16.7', '18.8', '14.6', '17.8', '17.2',\n",
       "       '18.9', '15', '13.8', '18.7', '16.4', '15.6', '18.2', '18', '14',\n",
       "       '14.9', '13.9', '15.5', '12.6', '14.4', '12.9', '14.3', '17',\n",
       "       '12.8', '13.1', '9.9', '10.5', '14.2', '13.5', '10.6', '16.9',\n",
       "       '11.2', '10.7', '11.3', '19.9', '10.4', '13.7', '11.9', '3.2',\n",
       "       '14.5', '14.8', '13.3', '13', '13.6', '4.1', '3.7', '3.3', '1.7',\n",
       "       '1.9', '3.6', '1.8', '1.6', '1', '2.1', '2.2', '2.4', '2', '3',\n",
       "       '21.2', '2.7', '2.6', '19.4', '0.4', '19.2', '20.6', '16.6',\n",
       "       '17.1', '19.5', '17.7', '16.3', '15.9', '14.1', '141', '15.7',\n",
       "       '16.2', '15.2', '99', '0.6', '2.8', '1.2', '2.5', '2.3', '66.4',\n",
       "       '19', '73', '38', '3.1', '45', '62', '15.3', '21', '22.2', '22.9',\n",
       "       '20.8', '17.9', '19.1', '21.8', '20.7', '18.3', '21.3', '17.5',\n",
       "       '16.1', '15.1', '88', '65', '66', '4.300', '15.8', '22', '99.9',\n",
       "       '85.4', '2.9', '1.1', '119', '51.8', '41', '53', '0.8', '60', '52',\n",
       "       '21.5', '16', '19.6', '20.1', '18.4', '31.4', '0.9', '18.1',\n",
       "       '18.6', '21.9', '15.4', '0.1', '0.7', '0.5', '152', '98.4', '59',\n",
       "       '57', '116', '107', '120', '131', '147', '173', '132', '130',\n",
       "       '138', '134', '56', '133', '123', '125', '122', '171', '55', '49',\n",
       "       '30', '26', '61', '36', '146', '143', '0.2', '22.6'], dtype=object)"
      ]
     },
     "execution_count": 89,
     "metadata": {},
     "output_type": "execute_result"
    }
   ],
   "source": [
    "df['fuel_consumption_l_100km'] = df['fuel_consumption_l_100km'].str.replace(',', '.', regex=False)\n",
    "df['fuel_consumption_l_100km'].unique()"
   ]
  },
  {
   "cell_type": "code",
   "execution_count": 90,
   "metadata": {},
   "outputs": [
    {
     "name": "stderr",
     "output_type": "stream",
     "text": [
      "c:\\Users\\jog97\\AppData\\Local\\Programs\\Python\\Python37\\lib\\site-packages\\ipykernel_launcher.py:1: UserWarning: This pattern has match groups. To actually get the groups, use str.extract.\n",
      "  \"\"\"Entry point for launching an IPython kernel.\n"
     ]
    },
    {
     "data": {
      "text/plain": [
       "4.9     8148\n",
       "5.1     7653\n",
       "5.5     7610\n",
       "5.9     7513\n",
       "5.3     7430\n",
       "        ... \n",
       "53         1\n",
       "52         1\n",
       "31.4       1\n",
       "152        1\n",
       "22.6       1\n",
       "Name: fuel_consumption_l_100km, Length: 254, dtype: int64"
      ]
     },
     "execution_count": 90,
     "metadata": {},
     "output_type": "execute_result"
    }
   ],
   "source": [
    "df.loc[df['fuel_consumption_l_100km'].str.contains('(l/100 km)', na=False), 'fuel_consumption_l_100km'] = np.nan\n",
    "df['fuel_consumption_l_100km'].value_counts()"
   ]
  },
  {
   "cell_type": "code",
   "execution_count": 91,
   "metadata": {},
   "outputs": [
    {
     "data": {
      "image/png": "[encoded data removed]",
      "text/plain": [
       "<Figure size 640x480 with 1 Axes>"
      ]
     },
     "metadata": {},
     "output_type": "display_data"
    }
   ],
   "source": [
    "test2 = pd.to_numeric(df['fuel_consumption_l_100km'], errors='coerce')\n",
    "test2 = test2*4\n",
    "test.plot(label=\"g_km\")\n",
    "test2.plot(label=\"l_100km\")\n",
    "plt.show()"
   ]
  },
  {
   "cell_type": "code",
   "execution_count": 92,
   "metadata": {},
   "outputs": [
    {
     "data": {
      "text/plain": [
       "count     221740\n",
       "unique       254\n",
       "top          4.9\n",
       "freq        8148\n",
       "Name: fuel_consumption_l_100km, dtype: object"
      ]
     },
     "execution_count": 92,
     "metadata": {},
     "output_type": "execute_result"
    }
   ],
   "source": [
    "df[\"fuel_consumption_l_100km\"].describe()"
   ]
  },
  {
   "cell_type": "code",
   "execution_count": 93,
   "metadata": {},
   "outputs": [
    {
     "data": {
      "text/plain": [
       "count     246374\n",
       "unique      1014\n",
       "top         - ()\n",
       "freq       35778\n",
       "Name: fuel_consumption_g_km, dtype: object"
      ]
     },
     "execution_count": 93,
     "metadata": {},
     "output_type": "execute_result"
    }
   ],
   "source": [
    "df[\"fuel_consumption_g_km\"].describe()"
   ]
  },
  {
   "cell_type": "code",
   "execution_count": 94,
   "metadata": {},
   "outputs": [],
   "source": [
    "df.drop(\"fuel_consumption_g_km\", axis=1, inplace=True)"
   ]
  },
  {
   "cell_type": "code",
   "execution_count": 95,
   "metadata": {},
   "outputs": [
    {
     "name": "stdout",
     "output_type": "stream",
     "text": [
      "<class 'pandas.core.frame.DataFrame'>\n",
      "Int64Index: 250692 entries, 0 to 251078\n",
      "Data columns (total 13 columns):\n",
      " #   Column                    Non-Null Count   Dtype  \n",
      "---  ------                    --------------   -----  \n",
      " 0   brand                     250692 non-null  object \n",
      " 1   model                     250692 non-null  object \n",
      " 2   color                     250692 non-null  object \n",
      " 3   registration_date         250692 non-null  object \n",
      " 4   year                      250692 non-null  int32  \n",
      " 5   price_in_euro             250692 non-null  float64\n",
      " 6   power_kw                  250692 non-null  object \n",
      " 7   power_ps                  250692 non-null  object \n",
      " 8   transmission_type         250692 non-null  object \n",
      " 9   fuel_type                 250692 non-null  object \n",
      " 10  fuel_consumption_l_100km  221740 non-null  object \n",
      " 11  mileage_in_km             250692 non-null  int32  \n",
      " 12  offer_description         250692 non-null  object \n",
      "dtypes: float64(1), int32(2), object(10)\n",
      "memory usage: 24.9+ MB\n"
     ]
    }
   ],
   "source": [
    "df.info()"
   ]
  },
  {
   "cell_type": "code",
   "execution_count": 96,
   "metadata": {},
   "outputs": [
    {
     "name": "stdout",
     "output_type": "stream",
     "text": [
      "<class 'pandas.core.frame.DataFrame'>\n",
      "Int64Index: 221740 entries, 0 to 251076\n",
      "Data columns (total 13 columns):\n",
      " #   Column                    Non-Null Count   Dtype  \n",
      "---  ------                    --------------   -----  \n",
      " 0   brand                     221740 non-null  object \n",
      " 1   model                     221740 non-null  object \n",
      " 2   color                     221740 non-null  object \n",
      " 3   registration_date         221740 non-null  object \n",
      " 4   year                      221740 non-null  int32  \n",
      " 5   price_in_euro             221740 non-null  float64\n",
      " 6   power_kw                  221740 non-null  object \n",
      " 7   power_ps                  221740 non-null  object \n",
      " 8   transmission_type         221740 non-null  object \n",
      " 9   fuel_type                 221740 non-null  object \n",
      " 10  fuel_consumption_l_100km  221740 non-null  object \n",
      " 11  mileage_in_km             221740 non-null  int32  \n",
      " 12  offer_description         221740 non-null  object \n",
      "dtypes: float64(1), int32(2), object(10)\n",
      "memory usage: 22.0+ MB\n"
     ]
    }
   ],
   "source": [
    "df.dropna(subset=['fuel_consumption_l_100km'], inplace=True)\n",
    "df.info()"
   ]
  },
  {
   "cell_type": "code",
   "execution_count": 97,
   "metadata": {},
   "outputs": [
    {
     "name": "stdout",
     "output_type": "stream",
     "text": [
      "<class 'pandas.core.frame.DataFrame'>\n",
      "Int64Index: 221740 entries, 0 to 251076\n",
      "Data columns (total 13 columns):\n",
      " #   Column                    Non-Null Count   Dtype  \n",
      "---  ------                    --------------   -----  \n",
      " 0   brand                     221740 non-null  object \n",
      " 1   model                     221740 non-null  object \n",
      " 2   color                     221740 non-null  object \n",
      " 3   registration_date         221740 non-null  object \n",
      " 4   year                      221740 non-null  int32  \n",
      " 5   price_in_euro             221740 non-null  float64\n",
      " 6   power_kw                  221740 non-null  object \n",
      " 7   power_ps                  221740 non-null  object \n",
      " 8   transmission_type         221740 non-null  object \n",
      " 9   fuel_type                 221740 non-null  object \n",
      " 10  fuel_consumption_l_100km  221740 non-null  float64\n",
      " 11  mileage_in_km             221740 non-null  int32  \n",
      " 12  offer_description         221740 non-null  object \n",
      "dtypes: float64(2), int32(2), object(9)\n",
      "memory usage: 22.0+ MB\n"
     ]
    }
   ],
   "source": [
    "df['fuel_consumption_l_100km'] = pd.to_numeric(df['fuel_consumption_l_100km'])\n",
    "df.info()"
   ]
  },
  {
   "cell_type": "code",
   "execution_count": 98,
   "metadata": {},
   "outputs": [
    {
     "name": "stdout",
     "output_type": "stream",
     "text": [
      "<class 'pandas.core.frame.DataFrame'>\n",
      "Int64Index: 221740 entries, 0 to 251076\n",
      "Data columns (total 13 columns):\n",
      " #   Column                    Non-Null Count   Dtype  \n",
      "---  ------                    --------------   -----  \n",
      " 0   brand                     221740 non-null  object \n",
      " 1   model                     221740 non-null  object \n",
      " 2   color                     221740 non-null  object \n",
      " 3   registration_date         221740 non-null  object \n",
      " 4   year                      221740 non-null  int32  \n",
      " 5   price_in_euro             221740 non-null  float64\n",
      " 6   power_kw                  221740 non-null  int64  \n",
      " 7   power_ps                  221740 non-null  object \n",
      " 8   transmission_type         221740 non-null  object \n",
      " 9   fuel_type                 221740 non-null  object \n",
      " 10  fuel_consumption_l_100km  221740 non-null  float64\n",
      " 11  mileage_in_km             221740 non-null  int32  \n",
      " 12  offer_description         221740 non-null  object \n",
      "dtypes: float64(2), int32(2), int64(1), object(8)\n",
      "memory usage: 22.0+ MB\n"
     ]
    }
   ],
   "source": [
    "df['power_kw'] = pd.to_numeric(df['power_kw'])\n",
    "df.info()"
   ]
  },
  {
   "cell_type": "code",
   "execution_count": 99,
   "metadata": {},
   "outputs": [
    {
     "name": "stdout",
     "output_type": "stream",
     "text": [
      "<class 'pandas.core.frame.DataFrame'>\n",
      "Int64Index: 221740 entries, 0 to 251076\n",
      "Data columns (total 13 columns):\n",
      " #   Column                    Non-Null Count   Dtype  \n",
      "---  ------                    --------------   -----  \n",
      " 0   brand                     221740 non-null  object \n",
      " 1   model                     221740 non-null  object \n",
      " 2   color                     221740 non-null  object \n",
      " 3   registration_date         221740 non-null  object \n",
      " 4   year                      221740 non-null  int32  \n",
      " 5   price_in_euro             221740 non-null  float64\n",
      " 6   power_kw                  221740 non-null  int64  \n",
      " 7   power_ps                  221740 non-null  int64  \n",
      " 8   transmission_type         221740 non-null  object \n",
      " 9   fuel_type                 221740 non-null  object \n",
      " 10  fuel_consumption_l_100km  221740 non-null  float64\n",
      " 11  mileage_in_km             221740 non-null  int32  \n",
      " 12  offer_description         221740 non-null  object \n",
      "dtypes: float64(2), int32(2), int64(2), object(7)\n",
      "memory usage: 22.0+ MB\n"
     ]
    }
   ],
   "source": [
    "df['power_ps'] = pd.to_numeric(df['power_kw'])\n",
    "df.info()"
   ]
  },
  {
   "cell_type": "markdown",
   "metadata": {},
   "source": [
    "## Dates"
   ]
  },
  {
   "cell_type": "code",
   "execution_count": 100,
   "metadata": {},
   "outputs": [
    {
     "data": {
      "text/plain": [
       "array(['10/1995', '07/1995', '11/1996', '04/1996', '12/1996', '07/1996',\n",
       "       '01/1996', '02/1996', '10/1996', '05/1997', '06/1997', '10/1997',\n",
       "       '03/1997', '01/1997', '02/1997', '04/1997', '07/1997', '07/1998',\n",
       "       '05/1998', '01/1998', '11/1998', '09/1998', '07/1999', '02/1999',\n",
       "       '06/1999', '12/1999', '04/1999', '03/1999', '10/2000', '06/2000',\n",
       "       '05/2000', '04/2000', '11/2000', '03/2000', '02/2000', '09/2001',\n",
       "       '02/2001', '03/2001', '01/2001', '11/2001', '12/2001', '04/2001',\n",
       "       '05/2001', '06/2001', '10/2002', '12/2002', '01/2002', '09/2002',\n",
       "       '11/2002', '06/2002', '03/2002', '02/2002', '05/2003', '10/2003',\n",
       "       '07/2003', '02/2003', '01/2003', '08/2003', '03/2003', '06/2003',\n",
       "       '03/2004', '02/2004', '09/2004', '04/2004', '08/2004', '01/2004',\n",
       "       '06/2004', '10/2004', '12/2004', '11/2004', '07/2004', '05/2004',\n",
       "       '10/2005', '06/2005', '07/2005', '09/2005', '01/2005', '11/2005',\n",
       "       '05/2005', '08/2005', '02/2005', '02/2006', '09/2006', '01/2006',\n",
       "       '08/2006', '04/2006', '06/2006', '11/2006', '05/2006', '07/2006',\n",
       "       '12/2006', '03/2006', '10/2006', '03/2007', '08/2007', '10/2007',\n",
       "       '06/2007', '11/2007', '09/2007', '05/2007', '07/2007', '12/2007',\n",
       "       '04/2007', '02/2008', '06/2008', '10/2008', '07/2008', '05/2008',\n",
       "       '11/2008', '08/2008', '09/2008', '12/2008', '04/2008', '01/2008',\n",
       "       '06/2009', '12/2009', '07/2009', '05/2009', '01/2009', '09/2009',\n",
       "       '03/2009', '10/2009', '02/2009', '11/2009', '04/2009', '08/2009',\n",
       "       '07/2010', '01/2010', '04/2010', '09/2010', '12/2010', '08/2010',\n",
       "       '11/2010', '03/2010', '05/2010', '10/2010', '06/2010', '10/2011',\n",
       "       '09/2011', '06/2011', '05/2011', '03/2011', '08/2011', '11/2011',\n",
       "       '04/2011', '01/2011', '12/2011', '07/2011', '02/2011', '07/2012',\n",
       "       '10/2012', '12/2012', '03/2012', '05/2012', '09/2012', '01/2012',\n",
       "       '02/2012', '06/2012', '11/2012', '08/2012', '04/2012', '10/2013',\n",
       "       '06/2013', '08/2013', '11/2013', '04/2013', '12/2013', '09/2013',\n",
       "       '03/2013', '02/2013', '05/2013', '01/2013', '08/2014', '04/2014',\n",
       "       '09/2014', '12/2014', '01/2014', '11/2014', '07/2014', '11/2015',\n",
       "       '06/2015', '04/2015', '12/2015', '07/2015', '03/2015', '02/2015',\n",
       "       '08/2015', '01/2015', '09/2015', '01/2016', '06/2016', '11/2016',\n",
       "       '03/2016', '09/2016', '02/2016', '08/2016', '05/2016', '10/2016',\n",
       "       '12/2016', '04/2016', '07/2016', '08/2017', '09/2017', '03/2017',\n",
       "       '05/2017', '06/2017', '10/2017', '12/2017', '07/2017', '02/2017',\n",
       "       '04/2017', '11/2017', '07/2018', '01/2018', '03/2018', '05/2018',\n",
       "       '06/2018', '09/2018', '11/2018', '12/2018', '02/2018', '04/2018',\n",
       "       '10/2018', '08/2018', '08/2019', '10/2019', '02/2019', '05/2019',\n",
       "       '03/2019', '12/2019', '09/2019', '01/2019', '04/2019', '06/2019',\n",
       "       '11/2019', '07/2019', '09/2020', '04/2020', '12/2020', '06/2020',\n",
       "       '05/2020', '10/2020', '02/2020', '11/2020', '08/2020', '07/2020',\n",
       "       '03/2020', '01/2020', '10/2021', '12/2021', '09/2021', '04/2021',\n",
       "       '02/2021', '11/2021', '07/2021', '06/2021', '08/2021', '01/2021',\n",
       "       '03/2021', '05/2021', '04/2022', '11/2022', '12/2022', '06/2022',\n",
       "       '03/2022', '10/2022', '05/2022', '01/2022', '07/2022', '09/2022',\n",
       "       '08/2022', '02/2022', '04/2023', '03/2023', '02/2023', '01/2023',\n",
       "       '05/2023', '06/2023', '01/1999', '04/2002', '03/2005', '02/2014',\n",
       "       '05/2014', '05/2015', '10/2015', '01/2017', '08/1997', '09/1997',\n",
       "       '12/1997', '11/1997', '08/1998', '10/1998', '08/1999', '10/1999',\n",
       "       '11/1999', '09/1999', '05/1999', '08/2000', '12/2000', '01/2000',\n",
       "       '07/2000', '09/2000', '10/2001', '07/2001', '08/2001', '07/2002',\n",
       "       '08/2002', '05/2002', '04/2003', '12/2003', '09/2003', '11/2003',\n",
       "       '12/2005', '04/2005', '01/2007', '02/2007', '03/2008', '02/2010',\n",
       "       '07/2013', '03/2014', '06/2014', '10/2014', '12/1995', '08/1996',\n",
       "       '06/1996', '03/1996', '05/1996', '02/1998', '06/1998', '04/1998',\n",
       "       '03/1998', '06/1995', '09/1995', '04/1995', '01/1995', '03/1995',\n",
       "       '07/2023', '02/1995', '05/1995', '11/1995', '08/1995', '09/1996',\n",
       "       '12/1998'], dtype=object)"
      ]
     },
     "execution_count": 100,
     "metadata": {},
     "output_type": "execute_result"
    }
   ],
   "source": [
    "df['registration_date'].unique()"
   ]
  },
  {
   "cell_type": "code",
   "execution_count": 101,
   "metadata": {},
   "outputs": [
    {
     "data": {
      "text/plain": [
       "array(['1995-10-01T00:00:00.000000000', '1995-07-01T00:00:00.000000000',\n",
       "       '1996-11-01T00:00:00.000000000', '1996-04-01T00:00:00.000000000',\n",
       "       '1996-12-01T00:00:00.000000000', '1996-07-01T00:00:00.000000000',\n",
       "       '1996-01-01T00:00:00.000000000', '1996-02-01T00:00:00.000000000',\n",
       "       '1996-10-01T00:00:00.000000000', '1997-05-01T00:00:00.000000000',\n",
       "       '1997-06-01T00:00:00.000000000', '1997-10-01T00:00:00.000000000',\n",
       "       '1997-03-01T00:00:00.000000000', '1997-01-01T00:00:00.000000000',\n",
       "       '1997-02-01T00:00:00.000000000', '1997-04-01T00:00:00.000000000',\n",
       "       '1997-07-01T00:00:00.000000000', '1998-07-01T00:00:00.000000000',\n",
       "       '1998-05-01T00:00:00.000000000', '1998-01-01T00:00:00.000000000',\n",
       "       '1998-11-01T00:00:00.000000000', '1998-09-01T00:00:00.000000000',\n",
       "       '1999-07-01T00:00:00.000000000', '1999-02-01T00:00:00.000000000',\n",
       "       '1999-06-01T00:00:00.000000000', '1999-12-01T00:00:00.000000000',\n",
       "       '1999-04-01T00:00:00.000000000', '1999-03-01T00:00:00.000000000',\n",
       "       '2000-10-01T00:00:00.000000000', '2000-06-01T00:00:00.000000000',\n",
       "       '2000-05-01T00:00:00.000000000', '2000-04-01T00:00:00.000000000',\n",
       "       '2000-11-01T00:00:00.000000000', '2000-03-01T00:00:00.000000000',\n",
       "       '2000-02-01T00:00:00.000000000', '2001-09-01T00:00:00.000000000',\n",
       "       '2001-02-01T00:00:00.000000000', '2001-03-01T00:00:00.000000000',\n",
       "       '2001-01-01T00:00:00.000000000', '2001-11-01T00:00:00.000000000',\n",
       "       '2001-12-01T00:00:00.000000000', '2001-04-01T00:00:00.000000000',\n",
       "       '2001-05-01T00:00:00.000000000', '2001-06-01T00:00:00.000000000',\n",
       "       '2002-10-01T00:00:00.000000000', '2002-12-01T00:00:00.000000000',\n",
       "       '2002-01-01T00:00:00.000000000', '2002-09-01T00:00:00.000000000',\n",
       "       '2002-11-01T00:00:00.000000000', '2002-06-01T00:00:00.000000000',\n",
       "       '2002-03-01T00:00:00.000000000', '2002-02-01T00:00:00.000000000',\n",
       "       '2003-05-01T00:00:00.000000000', '2003-10-01T00:00:00.000000000',\n",
       "       '2003-07-01T00:00:00.000000000', '2003-02-01T00:00:00.000000000',\n",
       "       '2003-01-01T00:00:00.000000000', '2003-08-01T00:00:00.000000000',\n",
       "       '2003-03-01T00:00:00.000000000', '2003-06-01T00:00:00.000000000',\n",
       "       '2004-03-01T00:00:00.000000000', '2004-02-01T00:00:00.000000000',\n",
       "       '2004-09-01T00:00:00.000000000', '2004-04-01T00:00:00.000000000',\n",
       "       '2004-08-01T00:00:00.000000000', '2004-01-01T00:00:00.000000000',\n",
       "       '2004-06-01T00:00:00.000000000', '2004-10-01T00:00:00.000000000',\n",
       "       '2004-12-01T00:00:00.000000000', '2004-11-01T00:00:00.000000000',\n",
       "       '2004-07-01T00:00:00.000000000', '2004-05-01T00:00:00.000000000',\n",
       "       '2005-10-01T00:00:00.000000000', '2005-06-01T00:00:00.000000000',\n",
       "       '2005-07-01T00:00:00.000000000', '2005-09-01T00:00:00.000000000',\n",
       "       '2005-01-01T00:00:00.000000000', '2005-11-01T00:00:00.000000000',\n",
       "       '2005-05-01T00:00:00.000000000', '2005-08-01T00:00:00.000000000',\n",
       "       '2005-02-01T00:00:00.000000000', '2006-02-01T00:00:00.000000000',\n",
       "       '2006-09-01T00:00:00.000000000', '2006-01-01T00:00:00.000000000',\n",
       "       '2006-08-01T00:00:00.000000000', '2006-04-01T00:00:00.000000000',\n",
       "       '2006-06-01T00:00:00.000000000', '2006-11-01T00:00:00.000000000',\n",
       "       '2006-05-01T00:00:00.000000000', '2006-07-01T00:00:00.000000000',\n",
       "       '2006-12-01T00:00:00.000000000', '2006-03-01T00:00:00.000000000',\n",
       "       '2006-10-01T00:00:00.000000000', '2007-03-01T00:00:00.000000000',\n",
       "       '2007-08-01T00:00:00.000000000', '2007-10-01T00:00:00.000000000',\n",
       "       '2007-06-01T00:00:00.000000000', '2007-11-01T00:00:00.000000000',\n",
       "       '2007-09-01T00:00:00.000000000', '2007-05-01T00:00:00.000000000',\n",
       "       '2007-07-01T00:00:00.000000000', '2007-12-01T00:00:00.000000000',\n",
       "       '2007-04-01T00:00:00.000000000', '2008-02-01T00:00:00.000000000',\n",
       "       '2008-06-01T00:00:00.000000000', '2008-10-01T00:00:00.000000000',\n",
       "       '2008-07-01T00:00:00.000000000', '2008-05-01T00:00:00.000000000',\n",
       "       '2008-11-01T00:00:00.000000000', '2008-08-01T00:00:00.000000000',\n",
       "       '2008-09-01T00:00:00.000000000', '2008-12-01T00:00:00.000000000',\n",
       "       '2008-04-01T00:00:00.000000000', '2008-01-01T00:00:00.000000000',\n",
       "       '2009-06-01T00:00:00.000000000', '2009-12-01T00:00:00.000000000',\n",
       "       '2009-07-01T00:00:00.000000000', '2009-05-01T00:00:00.000000000',\n",
       "       '2009-01-01T00:00:00.000000000', '2009-09-01T00:00:00.000000000',\n",
       "       '2009-03-01T00:00:00.000000000', '2009-10-01T00:00:00.000000000',\n",
       "       '2009-02-01T00:00:00.000000000', '2009-11-01T00:00:00.000000000',\n",
       "       '2009-04-01T00:00:00.000000000', '2009-08-01T00:00:00.000000000',\n",
       "       '2010-07-01T00:00:00.000000000', '2010-01-01T00:00:00.000000000',\n",
       "       '2010-04-01T00:00:00.000000000', '2010-09-01T00:00:00.000000000',\n",
       "       '2010-12-01T00:00:00.000000000', '2010-08-01T00:00:00.000000000',\n",
       "       '2010-11-01T00:00:00.000000000', '2010-03-01T00:00:00.000000000',\n",
       "       '2010-05-01T00:00:00.000000000', '2010-10-01T00:00:00.000000000',\n",
       "       '2010-06-01T00:00:00.000000000', '2011-10-01T00:00:00.000000000',\n",
       "       '2011-09-01T00:00:00.000000000', '2011-06-01T00:00:00.000000000',\n",
       "       '2011-05-01T00:00:00.000000000', '2011-03-01T00:00:00.000000000',\n",
       "       '2011-08-01T00:00:00.000000000', '2011-11-01T00:00:00.000000000',\n",
       "       '2011-04-01T00:00:00.000000000', '2011-01-01T00:00:00.000000000',\n",
       "       '2011-12-01T00:00:00.000000000', '2011-07-01T00:00:00.000000000',\n",
       "       '2011-02-01T00:00:00.000000000', '2012-07-01T00:00:00.000000000',\n",
       "       '2012-10-01T00:00:00.000000000', '2012-12-01T00:00:00.000000000',\n",
       "       '2012-03-01T00:00:00.000000000', '2012-05-01T00:00:00.000000000',\n",
       "       '2012-09-01T00:00:00.000000000', '2012-01-01T00:00:00.000000000',\n",
       "       '2012-02-01T00:00:00.000000000', '2012-06-01T00:00:00.000000000',\n",
       "       '2012-11-01T00:00:00.000000000', '2012-08-01T00:00:00.000000000',\n",
       "       '2012-04-01T00:00:00.000000000', '2013-10-01T00:00:00.000000000',\n",
       "       '2013-06-01T00:00:00.000000000', '2013-08-01T00:00:00.000000000',\n",
       "       '2013-11-01T00:00:00.000000000', '2013-04-01T00:00:00.000000000',\n",
       "       '2013-12-01T00:00:00.000000000', '2013-09-01T00:00:00.000000000',\n",
       "       '2013-03-01T00:00:00.000000000', '2013-02-01T00:00:00.000000000',\n",
       "       '2013-05-01T00:00:00.000000000', '2013-01-01T00:00:00.000000000',\n",
       "       '2014-08-01T00:00:00.000000000', '2014-04-01T00:00:00.000000000',\n",
       "       '2014-09-01T00:00:00.000000000', '2014-12-01T00:00:00.000000000',\n",
       "       '2014-01-01T00:00:00.000000000', '2014-11-01T00:00:00.000000000',\n",
       "       '2014-07-01T00:00:00.000000000', '2015-11-01T00:00:00.000000000',\n",
       "       '2015-06-01T00:00:00.000000000', '2015-04-01T00:00:00.000000000',\n",
       "       '2015-12-01T00:00:00.000000000', '2015-07-01T00:00:00.000000000',\n",
       "       '2015-03-01T00:00:00.000000000', '2015-02-01T00:00:00.000000000',\n",
       "       '2015-08-01T00:00:00.000000000', '2015-01-01T00:00:00.000000000',\n",
       "       '2015-09-01T00:00:00.000000000', '2016-01-01T00:00:00.000000000',\n",
       "       '2016-06-01T00:00:00.000000000', '2016-11-01T00:00:00.000000000',\n",
       "       '2016-03-01T00:00:00.000000000', '2016-09-01T00:00:00.000000000',\n",
       "       '2016-02-01T00:00:00.000000000', '2016-08-01T00:00:00.000000000',\n",
       "       '2016-05-01T00:00:00.000000000', '2016-10-01T00:00:00.000000000',\n",
       "       '2016-12-01T00:00:00.000000000', '2016-04-01T00:00:00.000000000',\n",
       "       '2016-07-01T00:00:00.000000000', '2017-08-01T00:00:00.000000000',\n",
       "       '2017-09-01T00:00:00.000000000', '2017-03-01T00:00:00.000000000',\n",
       "       '2017-05-01T00:00:00.000000000', '2017-06-01T00:00:00.000000000',\n",
       "       '2017-10-01T00:00:00.000000000', '2017-12-01T00:00:00.000000000',\n",
       "       '2017-07-01T00:00:00.000000000', '2017-02-01T00:00:00.000000000',\n",
       "       '2017-04-01T00:00:00.000000000', '2017-11-01T00:00:00.000000000',\n",
       "       '2018-07-01T00:00:00.000000000', '2018-01-01T00:00:00.000000000',\n",
       "       '2018-03-01T00:00:00.000000000', '2018-05-01T00:00:00.000000000',\n",
       "       '2018-06-01T00:00:00.000000000', '2018-09-01T00:00:00.000000000',\n",
       "       '2018-11-01T00:00:00.000000000', '2018-12-01T00:00:00.000000000',\n",
       "       '2018-02-01T00:00:00.000000000', '2018-04-01T00:00:00.000000000',\n",
       "       '2018-10-01T00:00:00.000000000', '2018-08-01T00:00:00.000000000',\n",
       "       '2019-08-01T00:00:00.000000000', '2019-10-01T00:00:00.000000000',\n",
       "       '2019-02-01T00:00:00.000000000', '2019-05-01T00:00:00.000000000',\n",
       "       '2019-03-01T00:00:00.000000000', '2019-12-01T00:00:00.000000000',\n",
       "       '2019-09-01T00:00:00.000000000', '2019-01-01T00:00:00.000000000',\n",
       "       '2019-04-01T00:00:00.000000000', '2019-06-01T00:00:00.000000000',\n",
       "       '2019-11-01T00:00:00.000000000', '2019-07-01T00:00:00.000000000',\n",
       "       '2020-09-01T00:00:00.000000000', '2020-04-01T00:00:00.000000000',\n",
       "       '2020-12-01T00:00:00.000000000', '2020-06-01T00:00:00.000000000',\n",
       "       '2020-05-01T00:00:00.000000000', '2020-10-01T00:00:00.000000000',\n",
       "       '2020-02-01T00:00:00.000000000', '2020-11-01T00:00:00.000000000',\n",
       "       '2020-08-01T00:00:00.000000000', '2020-07-01T00:00:00.000000000',\n",
       "       '2020-03-01T00:00:00.000000000', '2020-01-01T00:00:00.000000000',\n",
       "       '2021-10-01T00:00:00.000000000', '2021-12-01T00:00:00.000000000',\n",
       "       '2021-09-01T00:00:00.000000000', '2021-04-01T00:00:00.000000000',\n",
       "       '2021-02-01T00:00:00.000000000', '2021-11-01T00:00:00.000000000',\n",
       "       '2021-07-01T00:00:00.000000000', '2021-06-01T00:00:00.000000000',\n",
       "       '2021-08-01T00:00:00.000000000', '2021-01-01T00:00:00.000000000',\n",
       "       '2021-03-01T00:00:00.000000000', '2021-05-01T00:00:00.000000000',\n",
       "       '2022-04-01T00:00:00.000000000', '2022-11-01T00:00:00.000000000',\n",
       "       '2022-12-01T00:00:00.000000000', '2022-06-01T00:00:00.000000000',\n",
       "       '2022-03-01T00:00:00.000000000', '2022-10-01T00:00:00.000000000',\n",
       "       '2022-05-01T00:00:00.000000000', '2022-01-01T00:00:00.000000000',\n",
       "       '2022-07-01T00:00:00.000000000', '2022-09-01T00:00:00.000000000',\n",
       "       '2022-08-01T00:00:00.000000000', '2022-02-01T00:00:00.000000000',\n",
       "       '2023-04-01T00:00:00.000000000', '2023-03-01T00:00:00.000000000',\n",
       "       '2023-02-01T00:00:00.000000000', '2023-01-01T00:00:00.000000000',\n",
       "       '2023-05-01T00:00:00.000000000', '2023-06-01T00:00:00.000000000',\n",
       "       '1999-01-01T00:00:00.000000000', '2002-04-01T00:00:00.000000000',\n",
       "       '2005-03-01T00:00:00.000000000', '2014-02-01T00:00:00.000000000',\n",
       "       '2014-05-01T00:00:00.000000000', '2015-05-01T00:00:00.000000000',\n",
       "       '2015-10-01T00:00:00.000000000', '2017-01-01T00:00:00.000000000',\n",
       "       '1997-08-01T00:00:00.000000000', '1997-09-01T00:00:00.000000000',\n",
       "       '1997-12-01T00:00:00.000000000', '1997-11-01T00:00:00.000000000',\n",
       "       '1998-08-01T00:00:00.000000000', '1998-10-01T00:00:00.000000000',\n",
       "       '1999-08-01T00:00:00.000000000', '1999-10-01T00:00:00.000000000',\n",
       "       '1999-11-01T00:00:00.000000000', '1999-09-01T00:00:00.000000000',\n",
       "       '1999-05-01T00:00:00.000000000', '2000-08-01T00:00:00.000000000',\n",
       "       '2000-12-01T00:00:00.000000000', '2000-01-01T00:00:00.000000000',\n",
       "       '2000-07-01T00:00:00.000000000', '2000-09-01T00:00:00.000000000',\n",
       "       '2001-10-01T00:00:00.000000000', '2001-07-01T00:00:00.000000000',\n",
       "       '2001-08-01T00:00:00.000000000', '2002-07-01T00:00:00.000000000',\n",
       "       '2002-08-01T00:00:00.000000000', '2002-05-01T00:00:00.000000000',\n",
       "       '2003-04-01T00:00:00.000000000', '2003-12-01T00:00:00.000000000',\n",
       "       '2003-09-01T00:00:00.000000000', '2003-11-01T00:00:00.000000000',\n",
       "       '2005-12-01T00:00:00.000000000', '2005-04-01T00:00:00.000000000',\n",
       "       '2007-01-01T00:00:00.000000000', '2007-02-01T00:00:00.000000000',\n",
       "       '2008-03-01T00:00:00.000000000', '2010-02-01T00:00:00.000000000',\n",
       "       '2013-07-01T00:00:00.000000000', '2014-03-01T00:00:00.000000000',\n",
       "       '2014-06-01T00:00:00.000000000', '2014-10-01T00:00:00.000000000',\n",
       "       '1995-12-01T00:00:00.000000000', '1996-08-01T00:00:00.000000000',\n",
       "       '1996-06-01T00:00:00.000000000', '1996-03-01T00:00:00.000000000',\n",
       "       '1996-05-01T00:00:00.000000000', '1998-02-01T00:00:00.000000000',\n",
       "       '1998-06-01T00:00:00.000000000', '1998-04-01T00:00:00.000000000',\n",
       "       '1998-03-01T00:00:00.000000000', '1995-06-01T00:00:00.000000000',\n",
       "       '1995-09-01T00:00:00.000000000', '1995-04-01T00:00:00.000000000',\n",
       "       '1995-01-01T00:00:00.000000000', '1995-03-01T00:00:00.000000000',\n",
       "       '2023-07-01T00:00:00.000000000', '1995-02-01T00:00:00.000000000',\n",
       "       '1995-05-01T00:00:00.000000000', '1995-11-01T00:00:00.000000000',\n",
       "       '1995-08-01T00:00:00.000000000', '1996-09-01T00:00:00.000000000',\n",
       "       '1998-12-01T00:00:00.000000000'], dtype='datetime64[ns]')"
      ]
     },
     "execution_count": 101,
     "metadata": {},
     "output_type": "execute_result"
    }
   ],
   "source": [
    "df['registration_date'] = pd.to_datetime(df['registration_date'], format='%m/%Y')\n",
    "df['registration_date'].unique()"
   ]
  },
  {
   "cell_type": "code",
   "execution_count": 102,
   "metadata": {},
   "outputs": [
    {
     "name": "stdout",
     "output_type": "stream",
     "text": [
      "<class 'pandas.core.frame.DataFrame'>\n",
      "Int64Index: 221740 entries, 0 to 251076\n",
      "Data columns (total 13 columns):\n",
      " #   Column                    Non-Null Count   Dtype         \n",
      "---  ------                    --------------   -----         \n",
      " 0   brand                     221740 non-null  object        \n",
      " 1   model                     221740 non-null  object        \n",
      " 2   color                     221740 non-null  object        \n",
      " 3   registration_date         221740 non-null  datetime64[ns]\n",
      " 4   year                      221740 non-null  int32         \n",
      " 5   price_in_euro             221740 non-null  float64       \n",
      " 6   power_kw                  221740 non-null  int64         \n",
      " 7   power_ps                  221740 non-null  int64         \n",
      " 8   transmission_type         221740 non-null  object        \n",
      " 9   fuel_type                 221740 non-null  object        \n",
      " 10  fuel_consumption_l_100km  221740 non-null  float64       \n",
      " 11  mileage_in_km             221740 non-null  int32         \n",
      " 12  offer_description         221740 non-null  object        \n",
      "dtypes: datetime64[ns](1), float64(2), int32(2), int64(2), object(6)\n",
      "memory usage: 22.0+ MB\n"
     ]
    }
   ],
   "source": [
    "df.info()"
   ]
  },
  {
   "cell_type": "markdown",
   "metadata": {},
   "source": [
    "Analysis of offer description"
   ]
  },
  {
   "cell_type": "code",
   "execution_count": 103,
   "metadata": {},
   "outputs": [
    {
     "name": "stdout",
     "output_type": "stream",
     "text": [
      "<class 'pandas.core.frame.DataFrame'>\n",
      "Int64Index: 221740 entries, 0 to 251076\n",
      "Data columns (total 14 columns):\n",
      " #   Column                    Non-Null Count   Dtype         \n",
      "---  ------                    --------------   -----         \n",
      " 0   brand                     221740 non-null  object        \n",
      " 1   model                     221740 non-null  object        \n",
      " 2   color                     221740 non-null  object        \n",
      " 3   registration_date         221740 non-null  datetime64[ns]\n",
      " 4   year                      221740 non-null  int32         \n",
      " 5   price_in_euro             221740 non-null  float64       \n",
      " 6   power_kw                  221740 non-null  int64         \n",
      " 7   power_ps                  221740 non-null  int64         \n",
      " 8   transmission_type         221740 non-null  object        \n",
      " 9   fuel_type                 221740 non-null  object        \n",
      " 10  fuel_consumption_l_100km  221740 non-null  float64       \n",
      " 11  mileage_in_km             221740 non-null  int32         \n",
      " 12  offer_description         221740 non-null  object        \n",
      " 13  length_offer_description  221740 non-null  int64         \n",
      "dtypes: datetime64[ns](1), float64(2), int32(2), int64(3), object(6)\n",
      "memory usage: 23.7+ MB\n"
     ]
    }
   ],
   "source": [
    "df['length_offer_description'] = df['offer_description'].str.len()\n",
    "df.info()"
   ]
  },
  {
   "cell_type": "code",
   "execution_count": 105,
   "metadata": {},
   "outputs": [],
   "source": [
    "df.to_csv('data.csv', index=False, quoting=csv.QUOTE_ALL)"
   ]
  }
 ],
 "metadata": {
  "kernelspec": {
   "display_name": "Python 3",
   "language": "python",
   "name": "python3"
  },
  "language_info": {
   "codemirror_mode": {
    "name": "ipython",
    "version": 3
   },
   "file_extension": ".py",
   "mimetype": "text/x-python",
   "name": "python",
   "nbconvert_exporter": "python",
   "pygments_lexer": "ipython3",
   "version": "3.7.4"
  }
 },
 "nbformat": 4,
 "nbformat_minor": 2
}
